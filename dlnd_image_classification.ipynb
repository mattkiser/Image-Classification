{
 "cells": [
  {
   "cell_type": "markdown",
   "metadata": {
    "collapsed": true,
    "deletable": true,
    "editable": true
   },
   "source": [
    "# Image Classification\n",
    "In this project, you'll classify images from the [CIFAR-10 dataset](https://www.cs.toronto.edu/~kriz/cifar.html).  The dataset consists of airplanes, dogs, cats, and other objects. You'll preprocess the images, then train a convolutional neural network on all the samples. The images need to be normalized and the labels need to be one-hot encoded.  You'll get to apply what you learned and build a convolutional, max pooling, dropout, and fully connected layers.  At the end, you'll get to see your neural network's predictions on the sample images.\n",
    "## Get the Data\n",
    "Run the following cell to download the [CIFAR-10 dataset for python](https://www.cs.toronto.edu/~kriz/cifar-10-python.tar.gz)."
   ]
  },
  {
   "cell_type": "code",
   "execution_count": 68,
   "metadata": {
    "collapsed": false,
    "deletable": true,
    "editable": true
   },
   "outputs": [
    {
     "name": "stdout",
     "output_type": "stream",
     "text": [
      "All files found!\n"
     ]
    }
   ],
   "source": [
    "\"\"\"\n",
    "DON'T MODIFY ANYTHING IN THIS CELL THAT IS BELOW THIS LINE\n",
    "\"\"\"\n",
    "from urllib.request import urlretrieve\n",
    "from os.path import isfile, isdir\n",
    "from tqdm import tqdm\n",
    "import problem_unittests as tests\n",
    "import tarfile\n",
    "\n",
    "cifar10_dataset_folder_path = 'cifar-10-batches-py'\n",
    "\n",
    "class DLProgress(tqdm):\n",
    "    last_block = 0\n",
    "\n",
    "    def hook(self, block_num=1, block_size=1, total_size=None):\n",
    "        self.total = total_size\n",
    "        self.update((block_num - self.last_block) * block_size)\n",
    "        self.last_block = block_num\n",
    "\n",
    "if not isfile('cifar-10-python.tar.gz'):\n",
    "    with DLProgress(unit='B', unit_scale=True, miniters=1, desc='CIFAR-10 Dataset') as pbar:\n",
    "        urlretrieve(\n",
    "            'https://www.cs.toronto.edu/~kriz/cifar-10-python.tar.gz',\n",
    "            'cifar-10-python.tar.gz',\n",
    "            pbar.hook)\n",
    "\n",
    "if not isdir(cifar10_dataset_folder_path):\n",
    "    with tarfile.open('cifar-10-python.tar.gz') as tar:\n",
    "        tar.extractall()\n",
    "        tar.close()\n",
    "\n",
    "\n",
    "tests.test_folder_path(cifar10_dataset_folder_path)"
   ]
  },
  {
   "cell_type": "markdown",
   "metadata": {
    "deletable": true,
    "editable": true
   },
   "source": [
    "## Explore the Data\n",
    "The dataset is broken into batches to prevent your machine from running out of memory.  The CIFAR-10 dataset consists of 5 batches, named `data_batch_1`, `data_batch_2`, etc.. Each batch contains the labels and images that are one of the following:\n",
    "* airplane\n",
    "* automobile\n",
    "* bird\n",
    "* cat\n",
    "* deer\n",
    "* dog\n",
    "* frog\n",
    "* horse\n",
    "* ship\n",
    "* truck\n",
    "\n",
    "Understanding a dataset is part of making predictions on the data.  Play around with the code cell below by changing the `batch_id` and `sample_id`. The `batch_id` is the id for a batch (1-5). The `sample_id` is the id for a image and label pair in the batch.\n",
    "\n",
    "Ask yourself \"What are all possible labels?\", \"What is the range of values for the image data?\", \"Are the labels in order or random?\".  Answers to questions like these will help you preprocess the data and end up with better predictions."
   ]
  },
  {
   "cell_type": "code",
   "execution_count": 69,
   "metadata": {
    "collapsed": false,
    "deletable": true,
    "editable": true
   },
   "outputs": [
    {
     "name": "stdout",
     "output_type": "stream",
     "text": [
      "\n",
      "Stats of batch 4:\n",
      "Samples: 10000\n",
      "Label Counts: {0: 1003, 1: 963, 2: 1041, 3: 976, 4: 1004, 5: 1021, 6: 1004, 7: 981, 8: 1024, 9: 983}\n",
      "First 20 Labels: [0, 6, 0, 2, 7, 2, 1, 2, 4, 1, 5, 6, 6, 3, 1, 3, 5, 5, 8, 1]\n",
      "\n",
      "Example of Image 5:\n",
      "Image - Min Value: 13 Max Value: 169\n",
      "Image - Shape: (32, 32, 3)\n",
      "Label - Label Id: 2 Name: bird\n"
     ]
    },
    {
     "data": {
      "image/png": "[encoded data removed]",
      "text/plain": [
       "<matplotlib.figure.Figure at 0x7f99658c8710>"
      ]
     },
     "metadata": {
      "image/png": {
       "height": 250,
       "width": 253
      }
     },
     "output_type": "display_data"
    }
   ],
   "source": [
    "%matplotlib inline\n",
    "%config InlineBackend.figure_format = 'retina'\n",
    "\n",
    "import helper\n",
    "import numpy as np\n",
    "\n",
    "# Explore the dataset\n",
    "batch_id = 4\n",
    "sample_id = 5\n",
    "helper.display_stats(cifar10_dataset_folder_path, batch_id, sample_id)"
   ]
  },
  {
   "cell_type": "markdown",
   "metadata": {
    "deletable": true,
    "editable": true
   },
   "source": [
    "## Implement Preprocess Functions\n",
    "### Normalize\n",
    "In the cell below, implement the `normalize` function to take in image data, `x`, and return it as a normalized Numpy array. The values should be in the range of 0 to 1, inclusive.  The return object should be the same shape as `x`."
   ]
  },
  {
   "cell_type": "code",
   "execution_count": 70,
   "metadata": {
    "collapsed": false,
    "deletable": true,
    "editable": true
   },
   "outputs": [
    {
     "name": "stdout",
     "output_type": "stream",
     "text": [
      "Tests Passed\n"
     ]
    }
   ],
   "source": [
    "def normalize(x):\n",
    "    \"\"\"\n",
    "    Normalize a list of sample image data in the range of 0 to 1\n",
    "    : x: List of image data.  The image shape is (32, 32, 3)\n",
    "    : return: Numpy array of normalize data\n",
    "    \"\"\"\n",
    "    # TODO: Implement Function\n",
    "    a = 0.0\n",
    "    b = 1.0\n",
    "    x_minval = np.min(x)\n",
    "    x_maxval = np.max(x)\n",
    "    return a + ( ( (x - x_minval)*(b - a) )/(x_maxval - x_minval) )\n",
    "\n",
    "\n",
    "\n",
    "\n",
    "\n",
    "\"\"\"\n",
    "DON'T MODIFY ANYTHING IN THIS CELL THAT IS BELOW THIS LINE\n",
    "\"\"\"\n",
    "tests.test_normalize(normalize)"
   ]
  },
  {
   "cell_type": "markdown",
   "metadata": {
    "deletable": true,
    "editable": true
   },
   "source": [
    "### One-hot encode\n",
    "Just like the previous code cell, you'll be implementing a function for preprocessing.  This time, you'll implement the `one_hot_encode` function. The input, `x`, are a list of labels.  Implement the function to return the list of labels as One-Hot encoded Numpy array.  The possible values for labels are 0 to 9. The one-hot encoding function should return the same encoding for each value between each call to `one_hot_encode`.  Make sure to save the map of encodings outside the function.\n",
    "\n",
    "Hint: Don't reinvent the wheel."
   ]
  },
  {
   "cell_type": "code",
   "execution_count": 71,
   "metadata": {
    "collapsed": false,
    "deletable": true,
    "editable": true
   },
   "outputs": [
    {
     "name": "stdout",
     "output_type": "stream",
     "text": [
      "Tests Passed\n"
     ]
    }
   ],
   "source": [
    "from sklearn import preprocessing\n",
    "lb = None\n",
    "\n",
    "def one_hot_encode(x):\n",
    "    \"\"\"\n",
    "    One hot encode a list of sample labels. Return a one-hot encoded vector for each label.\n",
    "    : x: List of sample Labels\n",
    "    : return: Numpy array of one-hot encoded labels\n",
    "    \"\"\"\n",
    "    # TODO: Implement Function\n",
    "    global lb\n",
    "    if lb is None:\n",
    "        lb = preprocessing.LabelBinarizer()\n",
    "        lb.fit(x)\n",
    "    oneHot = lb.transform(x)\n",
    "    return oneHot\n",
    "\n",
    "\n",
    "\"\"\"\n",
    "DON'T MODIFY ANYTHING IN THIS CELL THAT IS BELOW THIS LINE\n",
    "\"\"\"\n",
    "tests.test_one_hot_encode(one_hot_encode)"
   ]
  },
  {
   "cell_type": "markdown",
   "metadata": {
    "deletable": true,
    "editable": true
   },
   "source": [
    "### Randomize Data\n",
    "As you saw from exploring the data above, the order of the samples are randomized.  It doesn't hurt to randomize it again, but you don't need to for this dataset."
   ]
  },
  {
   "cell_type": "markdown",
   "metadata": {
    "deletable": true,
    "editable": true
   },
   "source": [
    "## Preprocess all the data and save it\n",
    "Running the code cell below will preprocess all the CIFAR-10 data and save it to file. The code below also uses 10% of the training data for validation."
   ]
  },
  {
   "cell_type": "code",
   "execution_count": 72,
   "metadata": {
    "collapsed": false,
    "deletable": true,
    "editable": true
   },
   "outputs": [],
   "source": [
    "\"\"\"\n",
    "DON'T MODIFY ANYTHING IN THIS CELL\n",
    "\"\"\"\n",
    "# Preprocess Training, Validation, and Testing Data\n",
    "helper.preprocess_and_save_data(cifar10_dataset_folder_path, normalize, one_hot_encode)"
   ]
  },
  {
   "cell_type": "markdown",
   "metadata": {
    "deletable": true,
    "editable": true
   },
   "source": [
    "# Check Point\n",
    "This is your first checkpoint.  If you ever decide to come back to this notebook or have to restart the notebook, you can start from here.  The preprocessed data has been saved to disk."
   ]
  },
  {
   "cell_type": "code",
   "execution_count": 1,
   "metadata": {
    "collapsed": true,
    "deletable": true,
    "editable": true
   },
   "outputs": [],
   "source": [
    "\"\"\"\n",
    "DON'T MODIFY ANYTHING IN THIS CELL\n",
    "\"\"\"\n",
    "import pickle\n",
    "import problem_unittests as tests\n",
    "import helper\n",
    "\n",
    "# Load the Preprocessed Validation data\n",
    "valid_features, valid_labels = pickle.load(open('preprocess_validation.p', mode='rb'))"
   ]
  },
  {
   "cell_type": "markdown",
   "metadata": {
    "deletable": true,
    "editable": true
   },
   "source": [
    "## Build the network\n",
    "For the neural network, you'll build each layer into a function.  Most of the code you've seen has been outside of functions. To test your code more thoroughly, we require that you put each layer in a function.  This allows us to give you better feedback and test for simple mistakes using our unittests before you submit your project.\n",
    "\n",
    ">**Note:** If you're finding it hard to dedicate enough time for this course each week, we've provided a small shortcut to this part of the project. In the next couple of problems, you'll have the option to use classes from the [TensorFlow Layers](https://www.tensorflow.org/api_docs/python/tf/layers) or [TensorFlow Layers (contrib)](https://www.tensorflow.org/api_guides/python/contrib.layers) packages to build each layer, except the layers you build in the \"Convolutional and Max Pooling Layer\" section.  TF Layers is similar to Keras's and TFLearn's abstraction to layers, so it's easy to pickup.\n",
    "\n",
    ">However, if you would like to get the most out of this course, try to solve all the problems _without_ using anything from the TF Layers packages. You **can** still use classes from other packages that happen to have the same name as ones you find in TF Layers! For example, instead of using the TF Layers version of the `conv2d` class, [tf.layers.conv2d](https://www.tensorflow.org/api_docs/python/tf/layers/conv2d), you would want to use the TF Neural Network version of `conv2d`, [tf.nn.conv2d](https://www.tensorflow.org/api_docs/python/tf/nn/conv2d). \n",
    "\n",
    "Let's begin!\n",
    "\n",
    "### Input\n",
    "The neural network needs to read the image data, one-hot encoded labels, and dropout keep probability. Implement the following functions\n",
    "* Implement `neural_net_image_input`\n",
    " * Return a [TF Placeholder](https://www.tensorflow.org/api_docs/python/tf/placeholder)\n",
    " * Set the shape using `image_shape` with batch size set to `None`.\n",
    " * Name the TensorFlow placeholder \"x\" using the TensorFlow `name` parameter in the [TF Placeholder](https://www.tensorflow.org/api_docs/python/tf/placeholder).\n",
    "* Implement `neural_net_label_input`\n",
    " * Return a [TF Placeholder](https://www.tensorflow.org/api_docs/python/tf/placeholder)\n",
    " * Set the shape using `n_classes` with batch size set to `None`.\n",
    " * Name the TensorFlow placeholder \"y\" using the TensorFlow `name` parameter in the [TF Placeholder](https://www.tensorflow.org/api_docs/python/tf/placeholder).\n",
    "* Implement `neural_net_keep_prob_input`\n",
    " * Return a [TF Placeholder](https://www.tensorflow.org/api_docs/python/tf/placeholder) for dropout keep probability.\n",
    " * Name the TensorFlow placeholder \"keep_prob\" using the TensorFlow `name` parameter in the [TF Placeholder](https://www.tensorflow.org/api_docs/python/tf/placeholder).\n",
    "\n",
    "These names will be used at the end of the project to load your saved model.\n",
    "\n",
    "Note: `None` for shapes in TensorFlow allow for a dynamic size."
   ]
  },
  {
   "cell_type": "code",
   "execution_count": 2,
   "metadata": {
    "collapsed": false,
    "deletable": true,
    "editable": true
   },
   "outputs": [
    {
     "name": "stdout",
     "output_type": "stream",
     "text": [
      "Image Input Tests Passed.\n",
      "Label Input Tests Passed.\n",
      "Keep Prob Tests Passed.\n"
     ]
    }
   ],
   "source": [
    "import tensorflow as tf\n",
    "\n",
    "def neural_net_image_input(image_shape):\n",
    "    \"\"\"\n",
    "    Return a Tensor for a batch of image input\n",
    "    : image_shape: Shape of the images\n",
    "    : return: Tensor for image input.\n",
    "    \"\"\"\n",
    "    # TODO: Implement Function\n",
    "    return tf.placeholder(tf.float32, shape=[None,*image_shape], name='x')\n",
    "\n",
    "\n",
    "def neural_net_label_input(n_classes):\n",
    "    \"\"\"\n",
    "    Return a Tensor for a batch of label input\n",
    "    : n_classes: Number of classes\n",
    "    : return: Tensor for label input.\n",
    "    \"\"\"\n",
    "    # TODO: Implement Function\n",
    "    return tf.placeholder(tf.float32, shape=(None,n_classes), name='y')\n",
    "\n",
    "\n",
    "def neural_net_keep_prob_input():\n",
    "    \"\"\"\n",
    "    Return a Tensor for keep probability\n",
    "    : return: Tensor for keep probability.\n",
    "    \"\"\"\n",
    "    # TODO: Implement Function\n",
    "    keep_prob = tf.placeholder(tf.float32, name='keep_prob')\n",
    "    return keep_prob\n",
    "\n",
    "\n",
    "\"\"\"\n",
    "DON'T MODIFY ANYTHING IN THIS CELL THAT IS BELOW THIS LINE\n",
    "\"\"\"\n",
    "tf.reset_default_graph()\n",
    "tests.test_nn_image_inputs(neural_net_image_input)\n",
    "tests.test_nn_label_inputs(neural_net_label_input)\n",
    "tests.test_nn_keep_prob_inputs(neural_net_keep_prob_input)"
   ]
  },
  {
   "cell_type": "markdown",
   "metadata": {
    "deletable": true,
    "editable": true
   },
   "source": [
    "### Convolution and Max Pooling Layer\n",
    "Convolution layers have a lot of success with images. For this code cell, you should implement the function `conv2d_maxpool` to apply convolution then max pooling:\n",
    "* Create the weight and bias using `conv_ksize`, `conv_num_outputs` and the shape of `x_tensor`.\n",
    "* Apply a convolution to `x_tensor` using weight and `conv_strides`.\n",
    " * We recommend you use same padding, but you're welcome to use any padding.\n",
    "* Add bias\n",
    "* Add a nonlinear activation to the convolution.\n",
    "* Apply Max Pooling using `pool_ksize` and `pool_strides`.\n",
    " * We recommend you use same padding, but you're welcome to use any padding.\n",
    "\n",
    "**Note:** You **can't** use [TensorFlow Layers](https://www.tensorflow.org/api_docs/python/tf/layers) or [TensorFlow Layers (contrib)](https://www.tensorflow.org/api_guides/python/contrib.layers) for **this** layer, but you can still use TensorFlow's [Neural Network](https://www.tensorflow.org/api_docs/python/tf/nn) package. You may still use the shortcut option for all the **other** layers."
   ]
  },
  {
   "cell_type": "code",
   "execution_count": 3,
   "metadata": {
    "collapsed": false,
    "deletable": true,
    "editable": true
   },
   "outputs": [
    {
     "name": "stdout",
     "output_type": "stream",
     "text": [
      "Tests Passed\n"
     ]
    }
   ],
   "source": [
    "def conv2d_maxpool(x_tensor, conv_num_outputs, conv_ksize, conv_strides, pool_ksize, pool_strides):\n",
    "    \"\"\"\n",
    "    Apply convolution then max pooling to x_tensor\n",
    "    :param x_tensor: TensorFlow Tensor\n",
    "    :param conv_num_outputs: Number of outputs for the convolutional layer\n",
    "    :param conv_ksize: kernal size 2-D Tuple for the convolutional layer\n",
    "    :param conv_strides: Stride 2-D Tuple for convolution\n",
    "    :param pool_ksize: kernal size 2-D Tuple for pool\n",
    "    :param pool_strides: Stride 2-D Tuple for pool\n",
    "    : return: A tensor that represents convolution and max pooling of x_tensor\n",
    "    \"\"\"\n",
    "    # TODO: Implement Function\n",
    "    weight = tf.Variable(tf.truncated_normal([*conv_ksize, int(x_tensor.shape[3]), conv_num_outputs],\n",
    "                                             mean=0.0,     # EDIT THIS\n",
    "                                             stddev=0.03,  # EDIT THIS\n",
    "                                             dtype=tf.float32))\n",
    "    bias = tf.Variable(tf.zeros(conv_num_outputs))\n",
    "    \n",
    "    conv_layer = tf.nn.conv2d(input=x_tensor, \n",
    "                              filter=weight, \n",
    "                              strides=[1,*conv_strides,1], \n",
    "                              padding='SAME')\n",
    "    \n",
    "    conv_layer = tf.nn.bias_add(conv_layer, bias)\n",
    "    \n",
    "    conv_layer = tf.nn.relu(conv_layer)\n",
    "    \n",
    "    conv_layer = tf.nn.max_pool(value=conv_layer, \n",
    "                                ksize = [1, *pool_ksize,1],\n",
    "                                strides = [1, *pool_strides, 1], \n",
    "                                padding='SAME')\n",
    "    return conv_layer\n",
    "\n",
    "\n",
    "\"\"\"\n",
    "DON'T MODIFY ANYTHING IN THIS CELL THAT IS BELOW THIS LINE\n",
    "\"\"\"\n",
    "tests.test_con_pool(conv2d_maxpool)"
   ]
  },
  {
   "cell_type": "markdown",
   "metadata": {
    "deletable": true,
    "editable": true
   },
   "source": [
    "### Flatten Layer\n",
    "Implement the `flatten` function to change the dimension of `x_tensor` from a 4-D tensor to a 2-D tensor.  The output should be the shape (*Batch Size*, *Flattened Image Size*). Shortcut option: you can use classes from the [TensorFlow Layers](https://www.tensorflow.org/api_docs/python/tf/layers) or [TensorFlow Layers (contrib)](https://www.tensorflow.org/api_guides/python/contrib.layers) packages for this layer. For more of a challenge, only use other TensorFlow packages."
   ]
  },
  {
   "cell_type": "code",
   "execution_count": 4,
   "metadata": {
    "collapsed": false,
    "deletable": true,
    "editable": true
   },
   "outputs": [
    {
     "name": "stdout",
     "output_type": "stream",
     "text": [
      "Tests Passed\n"
     ]
    }
   ],
   "source": [
    "def flatten(x_tensor):\n",
    "    \"\"\"\n",
    "    Flatten x_tensor to (Batch Size, Flattened Image Size)\n",
    "    : x_tensor: A tensor of size (Batch Size, ...), where ... are the image dimensions.\n",
    "    : return: A tensor of size (Batch Size, Flattened Image Size).\n",
    "    \"\"\"\n",
    "    # TODO: Implement Function\n",
    "    flattened_tensor = tf.contrib.layers.flatten(x_tensor)\n",
    "    return flattened_tensor\n",
    "\n",
    "\n",
    "\"\"\"\n",
    "DON'T MODIFY ANYTHING IN THIS CELL THAT IS BELOW THIS LINE\n",
    "\"\"\"\n",
    "tests.test_flatten(flatten)"
   ]
  },
  {
   "cell_type": "markdown",
   "metadata": {
    "deletable": true,
    "editable": true
   },
   "source": [
    "### Fully-Connected Layer\n",
    "Implement the `fully_conn` function to apply a fully connected layer to `x_tensor` with the shape (*Batch Size*, *num_outputs*). Shortcut option: you can use classes from the [TensorFlow Layers](https://www.tensorflow.org/api_docs/python/tf/layers) or [TensorFlow Layers (contrib)](https://www.tensorflow.org/api_guides/python/contrib.layers) packages for this layer. For more of a challenge, only use other TensorFlow packages."
   ]
  },
  {
   "cell_type": "code",
   "execution_count": 5,
   "metadata": {
    "collapsed": false,
    "deletable": true,
    "editable": true
   },
   "outputs": [
    {
     "name": "stdout",
     "output_type": "stream",
     "text": [
      "Tests Passed\n"
     ]
    }
   ],
   "source": [
    "def fully_conn(x_tensor, num_outputs):\n",
    "    \"\"\"\n",
    "    Apply a fully connected layer to x_tensor using weight and bias\n",
    "    : x_tensor: A 2-D tensor where the first dimension is batch size.\n",
    "    : num_outputs: The number of output that the new tensor should be.\n",
    "    : return: A 2-D tensor where the second dimension is num_outputs.\n",
    "    \"\"\"\n",
    "    # TODO: Implement Function\n",
    "    output = tf.contrib.layers.fully_connected(x_tensor, \n",
    "                                               num_outputs,\n",
    "                                               )\n",
    "    return output\n",
    "\n",
    "\n",
    "\"\"\"\n",
    "DON'T MODIFY ANYTHING IN THIS CELL THAT IS BELOW THIS LINE\n",
    "\"\"\"\n",
    "tests.test_fully_conn(fully_conn)"
   ]
  },
  {
   "cell_type": "markdown",
   "metadata": {
    "deletable": true,
    "editable": true
   },
   "source": [
    "### Output Layer\n",
    "Implement the `output` function to apply a fully connected layer to `x_tensor` with the shape (*Batch Size*, *num_outputs*). Shortcut option: you can use classes from the [TensorFlow Layers](https://www.tensorflow.org/api_docs/python/tf/layers) or [TensorFlow Layers (contrib)](https://www.tensorflow.org/api_guides/python/contrib.layers) packages for this layer. For more of a challenge, only use other TensorFlow packages.\n",
    "\n",
    "**Note:** Activation, softmax, or cross entropy should **not** be applied to this."
   ]
  },
  {
   "cell_type": "code",
   "execution_count": 6,
   "metadata": {
    "collapsed": false,
    "deletable": true,
    "editable": true
   },
   "outputs": [
    {
     "name": "stdout",
     "output_type": "stream",
     "text": [
      "Tests Passed\n"
     ]
    }
   ],
   "source": [
    "def output(x_tensor, num_outputs):\n",
    "    \"\"\"\n",
    "    Apply a output layer to x_tensor using weight and bias\n",
    "    : x_tensor: A 2-D tensor where the first dimension is batch size.\n",
    "    : num_outputs: The number of output that the new tensor should be.\n",
    "    : return: A 2-D tensor where the second dimension is num_outputs.\n",
    "    \"\"\"\n",
    "    # TODO: Implement Function\n",
    "    output = tf.contrib.layers.fully_connected(x_tensor, \n",
    "                                               num_outputs,\n",
    "                                               activation_fn = None)\n",
    "    return output\n",
    "\n",
    "#the same as the fully connected layer?\n",
    "\n",
    "\"\"\"\n",
    "DON'T MODIFY ANYTHING IN THIS CELL THAT IS BELOW THIS LINE\n",
    "\"\"\"\n",
    "tests.test_output(output)"
   ]
  },
  {
   "cell_type": "markdown",
   "metadata": {
    "deletable": true,
    "editable": true
   },
   "source": [
    "### Create Convolutional Model\n",
    "Implement the function `conv_net` to create a convolutional neural network model. The function takes in a batch of images, `x`, and outputs logits.  Use the layers you created above to create this model:\n",
    "\n",
    "* Apply 1, 2, or 3 Convolution and Max Pool layers\n",
    "* Apply a Flatten Layer\n",
    "* Apply 1, 2, or 3 Fully Connected Layers\n",
    "* Apply an Output Layer\n",
    "* Return the output\n",
    "* Apply [TensorFlow's Dropout](https://www.tensorflow.org/api_docs/python/tf/nn/dropout) to one or more layers in the model using `keep_prob`. "
   ]
  },
  {
   "cell_type": "code",
   "execution_count": 7,
   "metadata": {
    "collapsed": false,
    "deletable": true,
    "editable": true
   },
   "outputs": [
    {
     "name": "stdout",
     "output_type": "stream",
     "text": [
      "Neural Network Built!\n"
     ]
    }
   ],
   "source": [
    "def conv_net(x, keep_prob):\n",
    "    \"\"\"\n",
    "    Create a convolutional neural network model\n",
    "    : x: Placeholder tensor that holds image data.\n",
    "    : keep_prob: Placeholder tensor that hold dropout keep probability.\n",
    "    : return: Tensor that represents logits\n",
    "    \"\"\"\n",
    "    # TODO: Apply 1, 2, or 3 Convolution and Max Pool layers\n",
    "    #    Play around with different number of outputs, kernel size and stride\n",
    "    # Function Definition from Above:\n",
    "    #    conv2d_maxpool(x_tensor, conv_num_outputs, conv_ksize, conv_strides, pool_ksize, pool_strides)\n",
    "    \n",
    "    conv_num_outputs1 = 16              #         EDIT HERE\n",
    "    conv_num_outputs2 = 32              #         EDIT HERE\n",
    "    conv_num_outputs3 = 64              #         EDIT HERE\n",
    "    \n",
    "    conv_ksize1 = (4,4)              #         EDIT HERE\n",
    "    conv_ksize2 = (4,4)              #         EDIT HERE\n",
    "    conv_ksize3 = (4,4)              #         EDIT HERE\n",
    "    \n",
    "    conv_strides1 = (2,2)              #         EDIT HERE\n",
    "    conv_strides2 = (2,2)              #         EDIT HERE\n",
    "    conv_strides3 = (2,2)              #         EDIT HERE\n",
    "    \n",
    "    pool_ksize1 = (2,2)              #         EDIT HERE\n",
    "    pool_ksize2 = (2,2)              #         EDIT HERE\n",
    "    pool_ksize3 = (1,1)              #         EDIT HERE\n",
    "    \n",
    "    pool_strides1 = (1,1)              #         EDIT HERE\n",
    "    pool_strides2 = (2,2)              #         EDIT HERE\n",
    "    pool_strides3 = (1,1)              #         EDIT HERE\n",
    "    \n",
    "    conv1 = conv2d_maxpool(x,\n",
    "                           conv_num_outputs=conv_num_outputs1,\n",
    "                           conv_ksize=conv_ksize1,\n",
    "                           conv_strides=conv_strides1,\n",
    "                           pool_ksize=pool_ksize1,\n",
    "                           pool_strides=pool_strides1)\n",
    "    conv2 = conv2d_maxpool(conv1,\n",
    "                           conv_num_outputs=conv_num_outputs2,\n",
    "                           conv_ksize=conv_ksize2,\n",
    "                           conv_strides=conv_strides2,\n",
    "                           pool_ksize=pool_ksize2,\n",
    "                           pool_strides=pool_strides2)\n",
    "    conv3 = conv2d_maxpool(conv2,\n",
    "                           conv_num_outputs=conv_num_outputs3,\n",
    "                           conv_ksize=conv_ksize3,\n",
    "                           conv_strides=conv_strides3,\n",
    "                           pool_ksize=pool_ksize3,\n",
    "                           pool_strides=pool_strides3)\n",
    "    conv3 = tf.nn.dropout(conv3, keep_prob)\n",
    "    \n",
    "    # TODO: Apply a Flatten Layer\n",
    "    # Function Definition from Above:\n",
    "    #   flatten(x_tensor)\n",
    "    \n",
    "    flat_layer = flatten(conv3)\n",
    "\n",
    "    # TODO: Apply 1, 2, or 3 Fully Connected Layers\n",
    "    #    Play around with different number of outputs\n",
    "    # Function Definition from Above:\n",
    "    #   fully_conn(x_tensor, num_outputs)\n",
    "    \n",
    "    fully_co = fully_conn(flat_layer,1500)           #          EDIT HERE\n",
    "    fully_co = tf.nn.dropout(fully_co, keep_prob)\n",
    "    fully_co = fully_conn(fully_co,750)              #         EDIT HERE\n",
    "    fully_co = tf.nn.dropout(fully_co, keep_prob)\n",
    "    # TODO: Apply an Output Layer\n",
    "    #    Set this to the number of classes\n",
    "    # Function Definition from Above:\n",
    "    #   output(x_tensor, num_outputs)\n",
    "    \n",
    "    out = output(fully_co, 10)\n",
    "    \n",
    "    # TODO: return output\n",
    "    return out\n",
    "\n",
    "\n",
    "\"\"\"\n",
    "DON'T MODIFY ANYTHING IN THIS CELL THAT IS BELOW THIS LINE\n",
    "\"\"\"\n",
    "\n",
    "##############################\n",
    "## Build the Neural Network ##\n",
    "##############################\n",
    "\n",
    "# Remove previous weights, bias, inputs, etc..\n",
    "tf.reset_default_graph()\n",
    "\n",
    "# Inputs\n",
    "x = neural_net_image_input((32, 32, 3))\n",
    "y = neural_net_label_input(10)\n",
    "keep_prob = neural_net_keep_prob_input()\n",
    "\n",
    "# Model\n",
    "logits = conv_net(x, keep_prob)\n",
    "\n",
    "# Name logits Tensor, so that is can be loaded from disk after training\n",
    "logits = tf.identity(logits, name='logits')\n",
    "\n",
    "# Loss and Optimizer\n",
    "cost = tf.reduce_mean(tf.nn.softmax_cross_entropy_with_logits(logits=logits, labels=y))\n",
    "optimizer = tf.train.AdamOptimizer().minimize(cost)\n",
    "\n",
    "# Accuracy\n",
    "correct_pred = tf.equal(tf.argmax(logits, 1), tf.argmax(y, 1))\n",
    "accuracy = tf.reduce_mean(tf.cast(correct_pred, tf.float32), name='accuracy')\n",
    "\n",
    "tests.test_conv_net(conv_net)"
   ]
  },
  {
   "cell_type": "markdown",
   "metadata": {
    "deletable": true,
    "editable": true
   },
   "source": [
    "## Train the Neural Network\n",
    "### Single Optimization\n",
    "Implement the function `train_neural_network` to do a single optimization.  The optimization should use `optimizer` to optimize in `session` with a `feed_dict` of the following:\n",
    "* `x` for image input\n",
    "* `y` for labels\n",
    "* `keep_prob` for keep probability for dropout\n",
    "\n",
    "This function will be called for each batch, so `tf.global_variables_initializer()` has already been called.\n",
    "\n",
    "Note: Nothing needs to be returned. This function is only optimizing the neural network."
   ]
  },
  {
   "cell_type": "code",
   "execution_count": 8,
   "metadata": {
    "collapsed": false,
    "deletable": true,
    "editable": true
   },
   "outputs": [
    {
     "name": "stdout",
     "output_type": "stream",
     "text": [
      "Tests Passed\n"
     ]
    }
   ],
   "source": [
    "def train_neural_network(session, optimizer, keep_probability, feature_batch, label_batch):\n",
    "    \"\"\"\n",
    "    Optimize the session on a batch of images and labels\n",
    "    : session: Current TensorFlow session\n",
    "    : optimizer: TensorFlow optimizer function\n",
    "    : keep_probability: keep probability\n",
    "    : feature_batch: Batch of Numpy image data\n",
    "    : label_batch: Batch of Numpy label data\n",
    "    \"\"\"\n",
    "    # TODO: Implement Function\n",
    "    session.run(optimizer, \n",
    "                feed_dict={x:feature_batch, \n",
    "                           y:label_batch, \n",
    "                           keep_prob:keep_probability})\n",
    "\n",
    "\n",
    "\"\"\"\n",
    "DON'T MODIFY ANYTHING IN THIS CELL THAT IS BELOW THIS LINE\n",
    "\"\"\"\n",
    "tests.test_train_nn(train_neural_network)"
   ]
  },
  {
   "cell_type": "markdown",
   "metadata": {
    "deletable": true,
    "editable": true
   },
   "source": [
    "### Show Stats\n",
    "Implement the function `print_stats` to print loss and validation accuracy.  Use the global variables `valid_features` and `valid_labels` to calculate validation accuracy.  Use a keep probability of `1.0` to calculate the loss and validation accuracy."
   ]
  },
  {
   "cell_type": "code",
   "execution_count": 9,
   "metadata": {
    "collapsed": false,
    "deletable": true,
    "editable": true
   },
   "outputs": [],
   "source": [
    "def print_stats(session, feature_batch, label_batch, cost, accuracy):\n",
    "    \"\"\"\n",
    "    Print information about loss and validation accuracy\n",
    "    : session: Current TensorFlow session\n",
    "    : feature_batch: Batch of Numpy image data\n",
    "    : label_batch: Batch of Numpy label data\n",
    "    : cost: TensorFlow cost function\n",
    "    : accuracy: TensorFlow accuracy function\n",
    "    \"\"\"\n",
    "    # TODO: Implement Function\n",
    "    loss = sess.run(cost, feed_dict={x: feature_batch, y:label_batch, keep_prob:1.0})\n",
    "    accuracy = session.run(accuracy, feed_dict={x: valid_features, y: valid_labels,keep_prob: 1.0})\n",
    "    print('Loss at {}'.format(loss), 'Validation Accuracy at {}'.format(accuracy))"
   ]
  },
  {
   "cell_type": "markdown",
   "metadata": {
    "deletable": true,
    "editable": true
   },
   "source": [
    "### Hyperparameters\n",
    "Tune the following parameters:\n",
    "* Set `epochs` to the number of iterations until the network stops learning or start overfitting\n",
    "* Set `batch_size` to the highest number that your machine has memory for.  Most people set them to common sizes of memory:\n",
    " * 64\n",
    " * 128\n",
    " * 256\n",
    " * ...\n",
    "* Set `keep_probability` to the probability of keeping a node using dropout"
   ]
  },
  {
   "cell_type": "markdown",
   "metadata": {
    "deletable": true,
    "editable": true
   },
   "source": [
    "### Train on a Single CIFAR-10 Batch\n",
    "Instead of training the neural network on all the CIFAR-10 batches of data, let's use a single batch. This should save time while you iterate on the model to get a better accuracy.  Once the final validation accuracy is 50% or greater, run the model on all the data in the next section."
   ]
  },
  {
   "cell_type": "code",
   "execution_count": 10,
   "metadata": {
    "collapsed": false,
    "deletable": true,
    "editable": true
   },
   "outputs": [
    {
     "name": "stdout",
     "output_type": "stream",
     "text": [
      "Checking the Training on a Single Batch...\n",
      "Epoch  1, CIFAR-10 Batch 1:  Loss at 2.206547737121582 Validation Accuracy at 0.20299997925758362\n",
      "Epoch  2, CIFAR-10 Batch 1:  Loss at 2.0916175842285156 Validation Accuracy at 0.3115999698638916\n",
      "Epoch  3, CIFAR-10 Batch 1:  Loss at 1.965047836303711 Validation Accuracy at 0.35439997911453247\n",
      "Epoch  4, CIFAR-10 Batch 1:  Loss at 1.844254732131958 Validation Accuracy at 0.38960000872612\n",
      "Epoch  5, CIFAR-10 Batch 1:  Loss at 1.708388090133667 Validation Accuracy at 0.40779995918273926\n",
      "Epoch  6, CIFAR-10 Batch 1:  Loss at 1.5947937965393066 Validation Accuracy at 0.4145999550819397\n",
      "Epoch  7, CIFAR-10 Batch 1:  Loss at 1.4773380756378174 Validation Accuracy at 0.43139997124671936\n",
      "Epoch  8, CIFAR-10 Batch 1:  Loss at 1.413043737411499 Validation Accuracy at 0.4559999704360962\n",
      "Epoch  9, CIFAR-10 Batch 1:  Loss at 1.325329065322876 Validation Accuracy at 0.46459993720054626\n",
      "Epoch 10, CIFAR-10 Batch 1:  Loss at 1.1907464265823364 Validation Accuracy at 0.47819995880126953\n",
      "Epoch 11, CIFAR-10 Batch 1:  Loss at 1.122756004333496 Validation Accuracy at 0.486799955368042\n",
      "Epoch 12, CIFAR-10 Batch 1:  Loss at 1.076647400856018 Validation Accuracy at 0.47919994592666626\n",
      "Epoch 13, CIFAR-10 Batch 1:  Loss at 0.9383043050765991 Validation Accuracy at 0.5055999159812927\n",
      "Epoch 14, CIFAR-10 Batch 1:  Loss at 0.9259020686149597 Validation Accuracy at 0.5133998990058899\n",
      "Epoch 15, CIFAR-10 Batch 1:  Loss at 0.8344804048538208 Validation Accuracy at 0.5209999680519104\n",
      "Epoch 16, CIFAR-10 Batch 1:  Loss at 0.7965421676635742 Validation Accuracy at 0.5223999619483948\n",
      "Epoch 17, CIFAR-10 Batch 1:  Loss at 0.7278392314910889 Validation Accuracy at 0.5199999809265137\n",
      "Epoch 18, CIFAR-10 Batch 1:  Loss at 0.6991660594940186 Validation Accuracy at 0.5231999158859253\n",
      "Epoch 19, CIFAR-10 Batch 1:  Loss at 0.6691974401473999 Validation Accuracy at 0.525399923324585\n",
      "Epoch 20, CIFAR-10 Batch 1:  Loss at 0.6228132843971252 Validation Accuracy at 0.530799925327301\n",
      "Epoch 21, CIFAR-10 Batch 1:  Loss at 0.5773054361343384 Validation Accuracy at 0.5353999137878418\n",
      "Epoch 22, CIFAR-10 Batch 1:  Loss at 0.5426777005195618 Validation Accuracy at 0.533799946308136\n",
      "Epoch 23, CIFAR-10 Batch 1:  Loss at 0.524054765701294 Validation Accuracy at 0.5445999503135681\n",
      "Epoch 24, CIFAR-10 Batch 1:  Loss at 0.5030349493026733 Validation Accuracy at 0.5387999415397644\n",
      "Epoch 25, CIFAR-10 Batch 1:  Loss at 0.4618563950061798 Validation Accuracy at 0.5343999266624451\n",
      "Epoch 26, CIFAR-10 Batch 1:  Loss at 0.4057297706604004 Validation Accuracy at 0.5553998947143555\n",
      "Epoch 27, CIFAR-10 Batch 1:  Loss at 0.40851083397865295 Validation Accuracy at 0.5411999821662903\n",
      "Epoch 28, CIFAR-10 Batch 1:  Loss at 0.3812501132488251 Validation Accuracy at 0.5405999422073364\n",
      "Epoch 29, CIFAR-10 Batch 1:  Loss at 0.34664028882980347 Validation Accuracy at 0.5527998805046082\n",
      "Epoch 30, CIFAR-10 Batch 1:  Loss at 0.31668683886528015 Validation Accuracy at 0.5595999360084534\n",
      "Epoch 31, CIFAR-10 Batch 1:  Loss at 0.2901133894920349 Validation Accuracy at 0.5587999224662781\n",
      "Epoch 32, CIFAR-10 Batch 1:  Loss at 0.2898014187812805 Validation Accuracy at 0.5643998980522156\n",
      "Epoch 33, CIFAR-10 Batch 1:  Loss at 0.2775387763977051 Validation Accuracy at 0.5507999062538147\n",
      "Epoch 34, CIFAR-10 Batch 1:  Loss at 0.2653142809867859 Validation Accuracy at 0.5453999638557434\n",
      "Epoch 35, CIFAR-10 Batch 1:  Loss at 0.30760788917541504 Validation Accuracy at 0.5475999712944031\n",
      "Epoch 36, CIFAR-10 Batch 1:  Loss at 0.2642599940299988 Validation Accuracy at 0.5717999935150146\n",
      "Epoch 37, CIFAR-10 Batch 1:  Loss at 0.25452283024787903 Validation Accuracy at 0.5639999508857727\n",
      "Epoch 38, CIFAR-10 Batch 1:  Loss at 0.23979595303535461 Validation Accuracy at 0.5607999563217163\n",
      "Epoch 39, CIFAR-10 Batch 1:  Loss at 0.19940929114818573 Validation Accuracy at 0.5655999183654785\n",
      "Epoch 40, CIFAR-10 Batch 1:  Loss at 0.2222180813550949 Validation Accuracy at 0.5461999773979187\n",
      "Epoch 41, CIFAR-10 Batch 1:  Loss at 0.20427648723125458 Validation Accuracy at 0.5497999787330627\n",
      "Epoch 42, CIFAR-10 Batch 1:  Loss at 0.21544885635375977 Validation Accuracy at 0.5397999286651611\n",
      "Epoch 43, CIFAR-10 Batch 1:  Loss at 0.20458129048347473 Validation Accuracy at 0.5417999029159546\n",
      "Epoch 44, CIFAR-10 Batch 1:  Loss at 0.1756007969379425 Validation Accuracy at 0.5567999482154846\n",
      "Epoch 45, CIFAR-10 Batch 1:  Loss at 0.1486375331878662 Validation Accuracy at 0.5553998947143555\n",
      "Epoch 46, CIFAR-10 Batch 1:  Loss at 0.20607034862041473 Validation Accuracy at 0.5311999917030334\n",
      "Epoch 47, CIFAR-10 Batch 1:  Loss at 0.16823835670948029 Validation Accuracy at 0.5567999482154846\n",
      "Epoch 48, CIFAR-10 Batch 1:  Loss at 0.17278516292572021 Validation Accuracy at 0.5483999252319336\n",
      "Epoch 49, CIFAR-10 Batch 1:  Loss at 0.13843794167041779 Validation Accuracy at 0.5645999312400818\n",
      "Epoch 50, CIFAR-10 Batch 1:  Loss at 0.1387239396572113 Validation Accuracy at 0.5583999156951904\n"
     ]
    }
   ],
   "source": [
    "# TODO: Tune Parameters\n",
    "epochs = 50\n",
    "batch_size = 256\n",
    "keep_probability = .5\n",
    "\n",
    "\"\"\"\n",
    "DON'T MODIFY ANYTHING IN THIS CELL\n",
    "\"\"\"\n",
    "print('Checking the Training on a Single Batch...')\n",
    "with tf.Session() as sess:\n",
    "    # Initializing the variables\n",
    "    sess.run(tf.global_variables_initializer())\n",
    "    \n",
    "    # Training cycle\n",
    "    for epoch in range(epochs):\n",
    "        batch_i = 1\n",
    "        for batch_features, batch_labels in helper.load_preprocess_training_batch(batch_i, batch_size):\n",
    "            train_neural_network(sess, optimizer, keep_probability, batch_features, batch_labels)\n",
    "        print('Epoch {:>2}, CIFAR-10 Batch {}:  '.format(epoch + 1, batch_i), end='')\n",
    "        print_stats(sess, batch_features, batch_labels, cost, accuracy)"
   ]
  },
  {
   "cell_type": "markdown",
   "metadata": {
    "deletable": true,
    "editable": true
   },
   "source": [
    "### Fully Train the Model\n",
    "Now that you got a good accuracy with a single CIFAR-10 batch, try it with all five batches."
   ]
  },
  {
   "cell_type": "code",
   "execution_count": 11,
   "metadata": {
    "collapsed": false,
    "deletable": true,
    "editable": true
   },
   "outputs": [
    {
     "name": "stdout",
     "output_type": "stream",
     "text": [
      "Training...\n",
      "Epoch  1, CIFAR-10 Batch 1:  Loss at 2.193650722503662 Validation Accuracy at 0.2223999947309494\n",
      "Epoch  1, CIFAR-10 Batch 2:  Loss at 1.984224557876587 Validation Accuracy at 0.295199990272522\n",
      "Epoch  1, CIFAR-10 Batch 3:  Loss at 1.6377768516540527 Validation Accuracy at 0.3392000198364258\n",
      "Epoch  1, CIFAR-10 Batch 4:  Loss at 1.6786500215530396 Validation Accuracy at 0.38979995250701904\n",
      "Epoch  1, CIFAR-10 Batch 5:  Loss at 1.6508862972259521 Validation Accuracy at 0.4103999733924866\n",
      "Epoch  2, CIFAR-10 Batch 1:  Loss at 1.815701961517334 Validation Accuracy at 0.4323999583721161\n",
      "Epoch  2, CIFAR-10 Batch 2:  Loss at 1.7091511487960815 Validation Accuracy at 0.43699997663497925\n",
      "Epoch  2, CIFAR-10 Batch 3:  Loss at 1.295881748199463 Validation Accuracy at 0.44259998202323914\n",
      "Epoch  2, CIFAR-10 Batch 4:  Loss at 1.469321846961975 Validation Accuracy at 0.46699994802474976\n",
      "Epoch  2, CIFAR-10 Batch 5:  Loss at 1.5291131734848022 Validation Accuracy at 0.464199960231781\n",
      "Epoch  3, CIFAR-10 Batch 1:  Loss at 1.4978994131088257 Validation Accuracy at 0.47519996762275696\n",
      "Epoch  3, CIFAR-10 Batch 2:  Loss at 1.4570255279541016 Validation Accuracy at 0.4771999716758728\n",
      "Epoch  3, CIFAR-10 Batch 3:  Loss at 1.126615285873413 Validation Accuracy at 0.48899996280670166\n",
      "Epoch  3, CIFAR-10 Batch 4:  Loss at 1.2933177947998047 Validation Accuracy at 0.5069999694824219\n",
      "Epoch  3, CIFAR-10 Batch 5:  Loss at 1.4052176475524902 Validation Accuracy at 0.49839991331100464\n",
      "Epoch  4, CIFAR-10 Batch 1:  Loss at 1.33164644241333 Validation Accuracy at 0.5123999118804932\n",
      "Epoch  4, CIFAR-10 Batch 2:  Loss at 1.3106739521026611 Validation Accuracy at 0.47659993171691895\n",
      "Epoch  4, CIFAR-10 Batch 3:  Loss at 0.9674947261810303 Validation Accuracy at 0.4851999878883362\n",
      "Epoch  4, CIFAR-10 Batch 4:  Loss at 1.1798593997955322 Validation Accuracy at 0.5163999199867249\n",
      "Epoch  4, CIFAR-10 Batch 5:  Loss at 1.302161693572998 Validation Accuracy at 0.514799952507019\n",
      "Epoch  5, CIFAR-10 Batch 1:  Loss at 1.2870824337005615 Validation Accuracy at 0.5309999585151672\n",
      "Epoch  5, CIFAR-10 Batch 2:  Loss at 1.1812063455581665 Validation Accuracy at 0.5237999558448792\n",
      "Epoch  5, CIFAR-10 Batch 3:  Loss at 0.9029313325881958 Validation Accuracy at 0.5255999565124512\n",
      "Epoch  5, CIFAR-10 Batch 4:  Loss at 1.056104063987732 Validation Accuracy at 0.5419999361038208\n",
      "Epoch  5, CIFAR-10 Batch 5:  Loss at 1.1558451652526855 Validation Accuracy at 0.5397999882698059\n",
      "Epoch  6, CIFAR-10 Batch 1:  Loss at 1.1517846584320068 Validation Accuracy at 0.5523999333381653\n",
      "Epoch  6, CIFAR-10 Batch 2:  Loss at 1.0828509330749512 Validation Accuracy at 0.5521999597549438\n",
      "Epoch  6, CIFAR-10 Batch 3:  Loss at 0.8141902089118958 Validation Accuracy at 0.5441999435424805\n",
      "Epoch  6, CIFAR-10 Batch 4:  Loss at 0.8702197074890137 Validation Accuracy at 0.5697999000549316\n",
      "Epoch  6, CIFAR-10 Batch 5:  Loss at 1.0748567581176758 Validation Accuracy at 0.5435999035835266\n",
      "Epoch  7, CIFAR-10 Batch 1:  Loss at 1.0322771072387695 Validation Accuracy at 0.5695999264717102\n",
      "Epoch  7, CIFAR-10 Batch 2:  Loss at 0.9992212057113647 Validation Accuracy at 0.572399914264679\n",
      "Epoch  7, CIFAR-10 Batch 3:  Loss at 0.7549936771392822 Validation Accuracy at 0.5791999101638794\n",
      "Epoch  7, CIFAR-10 Batch 4:  Loss at 0.8319191932678223 Validation Accuracy at 0.5735999345779419\n",
      "Epoch  7, CIFAR-10 Batch 5:  Loss at 0.9476118683815002 Validation Accuracy at 0.5715999007225037\n",
      "Epoch  8, CIFAR-10 Batch 1:  Loss at 0.9397004842758179 Validation Accuracy at 0.5895999073982239\n",
      "Epoch  8, CIFAR-10 Batch 2:  Loss at 0.9538183212280273 Validation Accuracy at 0.5835999250411987\n",
      "Epoch  8, CIFAR-10 Batch 3:  Loss at 0.7505329251289368 Validation Accuracy at 0.5793998837471008\n",
      "Epoch  8, CIFAR-10 Batch 4:  Loss at 0.7647067904472351 Validation Accuracy at 0.593999981880188\n",
      "Epoch  8, CIFAR-10 Batch 5:  Loss at 0.887069046497345 Validation Accuracy at 0.5921999216079712\n",
      "Epoch  9, CIFAR-10 Batch 1:  Loss at 0.8037420511245728 Validation Accuracy at 0.5977998971939087\n",
      "Epoch  9, CIFAR-10 Batch 2:  Loss at 0.8852840662002563 Validation Accuracy at 0.6037999391555786\n",
      "Epoch  9, CIFAR-10 Batch 3:  Loss at 0.6645662188529968 Validation Accuracy at 0.5901999473571777\n",
      "Epoch  9, CIFAR-10 Batch 4:  Loss at 0.7066764831542969 Validation Accuracy at 0.6029999256134033\n",
      "Epoch  9, CIFAR-10 Batch 5:  Loss at 0.8119498491287231 Validation Accuracy at 0.6019999384880066\n",
      "Epoch 10, CIFAR-10 Batch 1:  Loss at 0.8051537871360779 Validation Accuracy at 0.6005998849868774\n",
      "Epoch 10, CIFAR-10 Batch 2:  Loss at 0.8099277019500732 Validation Accuracy at 0.5947999954223633\n",
      "Epoch 10, CIFAR-10 Batch 3:  Loss at 0.5907160043716431 Validation Accuracy at 0.6011999249458313\n",
      "Epoch 10, CIFAR-10 Batch 4:  Loss at 0.6959311962127686 Validation Accuracy at 0.6083998680114746\n",
      "Epoch 10, CIFAR-10 Batch 5:  Loss at 0.7426322102546692 Validation Accuracy at 0.6061999201774597\n",
      "Epoch 11, CIFAR-10 Batch 1:  Loss at 0.6974421739578247 Validation Accuracy at 0.6189998984336853\n",
      "Epoch 11, CIFAR-10 Batch 2:  Loss at 0.7836315631866455 Validation Accuracy at 0.605199933052063\n",
      "Epoch 11, CIFAR-10 Batch 3:  Loss at 0.5914047360420227 Validation Accuracy at 0.6079999208450317\n",
      "Epoch 11, CIFAR-10 Batch 4:  Loss at 0.6838469505310059 Validation Accuracy at 0.6181999444961548\n",
      "Epoch 11, CIFAR-10 Batch 5:  Loss at 0.7318906784057617 Validation Accuracy at 0.6093999147415161\n",
      "Epoch 12, CIFAR-10 Batch 1:  Loss at 0.7194604873657227 Validation Accuracy at 0.6273999214172363\n",
      "Epoch 12, CIFAR-10 Batch 2:  Loss at 0.7356204986572266 Validation Accuracy at 0.6279999017715454\n",
      "Epoch 12, CIFAR-10 Batch 3:  Loss at 0.5511863231658936 Validation Accuracy at 0.6297998428344727\n",
      "Epoch 12, CIFAR-10 Batch 4:  Loss at 0.6466369032859802 Validation Accuracy at 0.6305999159812927\n",
      "Epoch 12, CIFAR-10 Batch 5:  Loss at 0.6743798851966858 Validation Accuracy at 0.6123999357223511\n",
      "Epoch 13, CIFAR-10 Batch 1:  Loss at 0.630968451499939 Validation Accuracy at 0.6283999085426331\n",
      "Epoch 13, CIFAR-10 Batch 2:  Loss at 0.7517865896224976 Validation Accuracy at 0.61819988489151\n",
      "Epoch 13, CIFAR-10 Batch 3:  Loss at 0.5312407612800598 Validation Accuracy at 0.6271999478340149\n",
      "Epoch 13, CIFAR-10 Batch 4:  Loss at 0.6348128318786621 Validation Accuracy at 0.6321998834609985\n",
      "Epoch 13, CIFAR-10 Batch 5:  Loss at 0.5934047698974609 Validation Accuracy at 0.6379998922348022\n",
      "Epoch 14, CIFAR-10 Batch 1:  Loss at 0.6336340308189392 Validation Accuracy at 0.6169999241828918\n",
      "Epoch 14, CIFAR-10 Batch 2:  Loss at 0.6771050095558167 Validation Accuracy at 0.6265998482704163\n",
      "Epoch 14, CIFAR-10 Batch 3:  Loss at 0.5508058071136475 Validation Accuracy at 0.6267999410629272\n",
      "Epoch 14, CIFAR-10 Batch 4:  Loss at 0.650671660900116 Validation Accuracy at 0.6291999220848083\n",
      "Epoch 14, CIFAR-10 Batch 5:  Loss at 0.5611790418624878 Validation Accuracy at 0.6203998923301697\n",
      "Epoch 15, CIFAR-10 Batch 1:  Loss at 0.5970979332923889 Validation Accuracy at 0.643799901008606\n",
      "Epoch 15, CIFAR-10 Batch 2:  Loss at 0.6350371837615967 Validation Accuracy at 0.6303998827934265\n",
      "Epoch 15, CIFAR-10 Batch 3:  Loss at 0.48413610458374023 Validation Accuracy at 0.6403998732566833\n",
      "Epoch 15, CIFAR-10 Batch 4:  Loss at 0.5532529354095459 Validation Accuracy at 0.643799901008606\n",
      "Epoch 15, CIFAR-10 Batch 5:  Loss at 0.5309745073318481 Validation Accuracy at 0.6381999254226685\n",
      "Epoch 16, CIFAR-10 Batch 1:  Loss at 0.5542895793914795 Validation Accuracy at 0.6501998901367188\n",
      "Epoch 16, CIFAR-10 Batch 2:  Loss at 0.5688661932945251 Validation Accuracy at 0.6501998901367188\n",
      "Epoch 16, CIFAR-10 Batch 3:  Loss at 0.4904521703720093 Validation Accuracy at 0.6379998326301575\n",
      "Epoch 16, CIFAR-10 Batch 4:  Loss at 0.5710785388946533 Validation Accuracy at 0.6475998759269714\n",
      "Epoch 16, CIFAR-10 Batch 5:  Loss at 0.5562219619750977 Validation Accuracy at 0.6315999627113342\n",
      "Epoch 17, CIFAR-10 Batch 1:  Loss at 0.5819661617279053 Validation Accuracy at 0.6453998684883118\n",
      "Epoch 17, CIFAR-10 Batch 2:  Loss at 0.5786128044128418 Validation Accuracy at 0.6379998922348022\n",
      "Epoch 17, CIFAR-10 Batch 3:  Loss at 0.4704435169696808 Validation Accuracy at 0.6457998752593994\n",
      "Epoch 17, CIFAR-10 Batch 4:  Loss at 0.5435000658035278 Validation Accuracy at 0.6441999077796936\n",
      "Epoch 17, CIFAR-10 Batch 5:  Loss at 0.480563223361969 Validation Accuracy at 0.6457999348640442\n",
      "Epoch 18, CIFAR-10 Batch 1:  Loss at 0.5317075848579407 Validation Accuracy at 0.6457998752593994\n",
      "Epoch 18, CIFAR-10 Batch 2:  Loss at 0.5277544260025024 Validation Accuracy at 0.6497998833656311\n",
      "Epoch 18, CIFAR-10 Batch 3:  Loss at 0.3907521963119507 Validation Accuracy at 0.6495998501777649\n",
      "Epoch 18, CIFAR-10 Batch 4:  Loss at 0.5369383692741394 Validation Accuracy at 0.6521998643875122\n",
      "Epoch 18, CIFAR-10 Batch 5:  Loss at 0.4882931411266327 Validation Accuracy at 0.6371999382972717\n",
      "Epoch 19, CIFAR-10 Batch 1:  Loss at 0.5124928951263428 Validation Accuracy at 0.6623998880386353\n",
      "Epoch 19, CIFAR-10 Batch 2:  Loss at 0.5508694648742676 Validation Accuracy at 0.6483998894691467\n",
      "Epoch 19, CIFAR-10 Batch 3:  Loss at 0.39555278420448303 Validation Accuracy at 0.6563999056816101\n",
      "Epoch 19, CIFAR-10 Batch 4:  Loss at 0.5102108716964722 Validation Accuracy at 0.6649998426437378\n",
      "Epoch 19, CIFAR-10 Batch 5:  Loss at 0.4683857858181 Validation Accuracy at 0.6235998868942261\n",
      "Epoch 20, CIFAR-10 Batch 1:  Loss at 0.5330630540847778 Validation Accuracy at 0.6563998460769653\n",
      "Epoch 20, CIFAR-10 Batch 2:  Loss at 0.5540807247161865 Validation Accuracy at 0.6367998719215393\n",
      "Epoch 20, CIFAR-10 Batch 3:  Loss at 0.3938077986240387 Validation Accuracy at 0.6545999050140381\n",
      "Epoch 20, CIFAR-10 Batch 4:  Loss at 0.46776294708251953 Validation Accuracy at 0.6581999063491821\n",
      "Epoch 20, CIFAR-10 Batch 5:  Loss at 0.47866570949554443 Validation Accuracy at 0.6345999240875244\n",
      "Epoch 21, CIFAR-10 Batch 1:  Loss at 0.4779026210308075 Validation Accuracy at 0.6569998860359192\n",
      "Epoch 21, CIFAR-10 Batch 2:  Loss at 0.4768966734409332 Validation Accuracy at 0.6537998914718628\n",
      "Epoch 21, CIFAR-10 Batch 3:  Loss at 0.37091538310050964 Validation Accuracy at 0.6433998942375183\n",
      "Epoch 21, CIFAR-10 Batch 4:  Loss at 0.42574000358581543 Validation Accuracy at 0.6701998710632324\n",
      "Epoch 21, CIFAR-10 Batch 5:  Loss at 0.4079098105430603 Validation Accuracy at 0.6529999375343323\n",
      "Epoch 22, CIFAR-10 Batch 1:  Loss at 0.4835796356201172 Validation Accuracy at 0.6567999124526978\n",
      "Epoch 22, CIFAR-10 Batch 2:  Loss at 0.5010462999343872 Validation Accuracy at 0.6403999328613281\n",
      "Epoch 22, CIFAR-10 Batch 3:  Loss at 0.3472951352596283 Validation Accuracy at 0.6663998961448669\n",
      "Epoch 22, CIFAR-10 Batch 4:  Loss at 0.44132766127586365 Validation Accuracy at 0.6675999164581299\n",
      "Epoch 22, CIFAR-10 Batch 5:  Loss at 0.4160304665565491 Validation Accuracy at 0.6539998650550842\n",
      "Epoch 23, CIFAR-10 Batch 1:  Loss at 0.4474197030067444 Validation Accuracy at 0.660399854183197\n",
      "Epoch 23, CIFAR-10 Batch 2:  Loss at 0.44273266196250916 Validation Accuracy at 0.6649998426437378\n",
      "Epoch 23, CIFAR-10 Batch 3:  Loss at 0.34357547760009766 Validation Accuracy at 0.6577998995780945\n",
      "Epoch 23, CIFAR-10 Batch 4:  Loss at 0.4440245032310486 Validation Accuracy at 0.6693998575210571\n",
      "Epoch 23, CIFAR-10 Batch 5:  Loss at 0.4174036383628845 Validation Accuracy at 0.6457999348640442\n",
      "Epoch 24, CIFAR-10 Batch 1:  Loss at 0.48817628622055054 Validation Accuracy at 0.6703998446464539\n",
      "Epoch 24, CIFAR-10 Batch 2:  Loss at 0.4391440153121948 Validation Accuracy at 0.6673998832702637\n",
      "Epoch 24, CIFAR-10 Batch 3:  Loss at 0.3261915445327759 Validation Accuracy at 0.6637998819351196\n",
      "Epoch 24, CIFAR-10 Batch 4:  Loss at 0.4201771020889282 Validation Accuracy at 0.6725997924804688\n",
      "Epoch 24, CIFAR-10 Batch 5:  Loss at 0.42705628275871277 Validation Accuracy at 0.6457998752593994\n",
      "Epoch 25, CIFAR-10 Batch 1:  Loss at 0.43356645107269287 Validation Accuracy at 0.6647998690605164\n",
      "Epoch 25, CIFAR-10 Batch 2:  Loss at 0.4171667993068695 Validation Accuracy at 0.673399806022644\n",
      "Epoch 25, CIFAR-10 Batch 3:  Loss at 0.301186203956604 Validation Accuracy at 0.6667998433113098\n",
      "Epoch 25, CIFAR-10 Batch 4:  Loss at 0.4114062190055847 Validation Accuracy at 0.676399827003479\n",
      "Epoch 25, CIFAR-10 Batch 5:  Loss at 0.3850162625312805 Validation Accuracy at 0.6563998460769653\n",
      "Epoch 26, CIFAR-10 Batch 1:  Loss at 0.41141608357429504 Validation Accuracy at 0.6723998785018921\n",
      "Epoch 26, CIFAR-10 Batch 2:  Loss at 0.4111340045928955 Validation Accuracy at 0.6689999103546143\n",
      "Epoch 26, CIFAR-10 Batch 3:  Loss at 0.2868746519088745 Validation Accuracy at 0.6675998568534851\n",
      "Epoch 26, CIFAR-10 Batch 4:  Loss at 0.3800026774406433 Validation Accuracy at 0.6751998662948608\n",
      "Epoch 26, CIFAR-10 Batch 5:  Loss at 0.35755252838134766 Validation Accuracy at 0.66159987449646\n",
      "Epoch 27, CIFAR-10 Batch 1:  Loss at 0.4034859538078308 Validation Accuracy at 0.6739999055862427\n",
      "Epoch 27, CIFAR-10 Batch 2:  Loss at 0.435198575258255 Validation Accuracy at 0.6713998317718506\n",
      "Epoch 27, CIFAR-10 Batch 3:  Loss at 0.2881423234939575 Validation Accuracy at 0.6739999055862427\n",
      "Epoch 27, CIFAR-10 Batch 4:  Loss at 0.3772887885570526 Validation Accuracy at 0.6801998615264893\n",
      "Epoch 27, CIFAR-10 Batch 5:  Loss at 0.3634311258792877 Validation Accuracy at 0.6551998853683472\n",
      "Epoch 28, CIFAR-10 Batch 1:  Loss at 0.4026356339454651 Validation Accuracy at 0.6751998662948608\n",
      "Epoch 28, CIFAR-10 Batch 2:  Loss at 0.4389054477214813 Validation Accuracy at 0.6819998621940613\n",
      "Epoch 28, CIFAR-10 Batch 3:  Loss at 0.28945720195770264 Validation Accuracy at 0.6691998243331909\n",
      "Epoch 28, CIFAR-10 Batch 4:  Loss at 0.35611772537231445 Validation Accuracy at 0.6781998872756958\n",
      "Epoch 28, CIFAR-10 Batch 5:  Loss at 0.3497735857963562 Validation Accuracy at 0.6551998853683472\n",
      "Epoch 29, CIFAR-10 Batch 1:  Loss at 0.3934544324874878 Validation Accuracy at 0.6675999164581299\n",
      "Epoch 29, CIFAR-10 Batch 2:  Loss at 0.42554962635040283 Validation Accuracy at 0.6707999110221863\n",
      "Epoch 29, CIFAR-10 Batch 3:  Loss at 0.2732059359550476 Validation Accuracy at 0.6709998250007629\n",
      "Epoch 29, CIFAR-10 Batch 4:  Loss at 0.33349570631980896 Validation Accuracy at 0.6845998167991638\n",
      "Epoch 29, CIFAR-10 Batch 5:  Loss at 0.3594614863395691 Validation Accuracy at 0.6747998595237732\n",
      "Epoch 30, CIFAR-10 Batch 1:  Loss at 0.45435938239097595 Validation Accuracy at 0.6635999083518982\n",
      "Epoch 30, CIFAR-10 Batch 2:  Loss at 0.35756587982177734 Validation Accuracy at 0.6825998425483704\n",
      "Epoch 30, CIFAR-10 Batch 3:  Loss at 0.2734876275062561 Validation Accuracy at 0.6757998466491699\n",
      "Epoch 30, CIFAR-10 Batch 4:  Loss at 0.3340452313423157 Validation Accuracy at 0.6825999021530151\n",
      "Epoch 30, CIFAR-10 Batch 5:  Loss at 0.33837205171585083 Validation Accuracy at 0.6737998127937317\n",
      "Epoch 31, CIFAR-10 Batch 1:  Loss at 0.3794170618057251 Validation Accuracy at 0.6677998304367065\n",
      "Epoch 31, CIFAR-10 Batch 2:  Loss at 0.35378241539001465 Validation Accuracy at 0.6811999082565308\n",
      "Epoch 31, CIFAR-10 Batch 3:  Loss at 0.2505732476711273 Validation Accuracy at 0.6867998242378235\n",
      "Epoch 31, CIFAR-10 Batch 4:  Loss at 0.3118124306201935 Validation Accuracy at 0.6849998831748962\n",
      "Epoch 31, CIFAR-10 Batch 5:  Loss at 0.33925455808639526 Validation Accuracy at 0.66159987449646\n",
      "Epoch 32, CIFAR-10 Batch 1:  Loss at 0.3846311569213867 Validation Accuracy at 0.6581999063491821\n",
      "Epoch 32, CIFAR-10 Batch 2:  Loss at 0.3812103867530823 Validation Accuracy at 0.6865999102592468\n",
      "Epoch 32, CIFAR-10 Batch 3:  Loss at 0.2760652005672455 Validation Accuracy at 0.6611999273300171\n",
      "Epoch 32, CIFAR-10 Batch 4:  Loss at 0.3098162114620209 Validation Accuracy at 0.6911998987197876\n",
      "Epoch 32, CIFAR-10 Batch 5:  Loss at 0.3177594542503357 Validation Accuracy at 0.681399941444397\n",
      "Epoch 33, CIFAR-10 Batch 1:  Loss at 0.32749369740486145 Validation Accuracy at 0.681399941444397\n",
      "Epoch 33, CIFAR-10 Batch 2:  Loss at 0.35586825013160706 Validation Accuracy at 0.6733998656272888\n",
      "Epoch 33, CIFAR-10 Batch 3:  Loss at 0.23417995870113373 Validation Accuracy at 0.6825999021530151\n",
      "Epoch 33, CIFAR-10 Batch 4:  Loss at 0.31702783703804016 Validation Accuracy at 0.6831998825073242\n",
      "Epoch 33, CIFAR-10 Batch 5:  Loss at 0.3264531195163727 Validation Accuracy at 0.6881999373435974\n",
      "Epoch 34, CIFAR-10 Batch 1:  Loss at 0.3456155061721802 Validation Accuracy at 0.6749998927116394\n",
      "Epoch 34, CIFAR-10 Batch 2:  Loss at 0.2997356951236725 Validation Accuracy at 0.6849998831748962\n",
      "Epoch 34, CIFAR-10 Batch 3:  Loss at 0.22177493572235107 Validation Accuracy at 0.6847999095916748\n",
      "Epoch 34, CIFAR-10 Batch 4:  Loss at 0.30288368463516235 Validation Accuracy at 0.6807999014854431\n",
      "Epoch 34, CIFAR-10 Batch 5:  Loss at 0.317137748003006 Validation Accuracy at 0.6683998703956604\n",
      "Epoch 35, CIFAR-10 Batch 1:  Loss at 0.30208829045295715 Validation Accuracy at 0.6773998141288757\n",
      "Epoch 35, CIFAR-10 Batch 2:  Loss at 0.3069903254508972 Validation Accuracy at 0.675399899482727\n",
      "Epoch 35, CIFAR-10 Batch 3:  Loss at 0.21304214000701904 Validation Accuracy at 0.6859999299049377\n",
      "Epoch 35, CIFAR-10 Batch 4:  Loss at 0.32140013575553894 Validation Accuracy at 0.6769999265670776\n",
      "Epoch 35, CIFAR-10 Batch 5:  Loss at 0.30439743399620056 Validation Accuracy at 0.6821999549865723\n",
      "Epoch 36, CIFAR-10 Batch 1:  Loss at 0.28038620948791504 Validation Accuracy at 0.6803998947143555\n",
      "Epoch 36, CIFAR-10 Batch 2:  Loss at 0.34574607014656067 Validation Accuracy at 0.6837998032569885\n",
      "Epoch 36, CIFAR-10 Batch 3:  Loss at 0.21325808763504028 Validation Accuracy at 0.683199942111969\n",
      "Epoch 36, CIFAR-10 Batch 4:  Loss at 0.282972514629364 Validation Accuracy at 0.6825998425483704\n",
      "Epoch 36, CIFAR-10 Batch 5:  Loss at 0.32382309436798096 Validation Accuracy at 0.6683998107910156\n",
      "Epoch 37, CIFAR-10 Batch 1:  Loss at 0.3103397786617279 Validation Accuracy at 0.6711999177932739\n",
      "Epoch 37, CIFAR-10 Batch 2:  Loss at 0.2966621518135071 Validation Accuracy at 0.6843998432159424\n",
      "Epoch 37, CIFAR-10 Batch 3:  Loss at 0.1885392963886261 Validation Accuracy at 0.6837998032569885\n",
      "Epoch 37, CIFAR-10 Batch 4:  Loss at 0.30755722522735596 Validation Accuracy at 0.6771999001502991\n",
      "Epoch 37, CIFAR-10 Batch 5:  Loss at 0.3015986680984497 Validation Accuracy at 0.672999918460846\n",
      "Epoch 38, CIFAR-10 Batch 1:  Loss at 0.30981773138046265 Validation Accuracy at 0.6717998385429382\n",
      "Epoch 38, CIFAR-10 Batch 2:  Loss at 0.29180553555488586 Validation Accuracy at 0.6805998682975769\n",
      "Epoch 38, CIFAR-10 Batch 3:  Loss at 0.2170226275920868 Validation Accuracy at 0.6811999082565308\n",
      "Epoch 38, CIFAR-10 Batch 4:  Loss at 0.27215439081192017 Validation Accuracy at 0.6839998960494995\n",
      "Epoch 38, CIFAR-10 Batch 5:  Loss at 0.282817006111145 Validation Accuracy at 0.6705998778343201\n",
      "Epoch 39, CIFAR-10 Batch 1:  Loss at 0.3340882360935211 Validation Accuracy at 0.654999852180481\n",
      "Epoch 39, CIFAR-10 Batch 2:  Loss at 0.27396246790885925 Validation Accuracy at 0.685999870300293\n",
      "Epoch 39, CIFAR-10 Batch 3:  Loss at 0.20881898701190948 Validation Accuracy at 0.6809998154640198\n",
      "Epoch 39, CIFAR-10 Batch 4:  Loss at 0.24254083633422852 Validation Accuracy at 0.686599850654602\n",
      "Epoch 39, CIFAR-10 Batch 5:  Loss at 0.2795025110244751 Validation Accuracy at 0.6867998838424683\n",
      "Epoch 40, CIFAR-10 Batch 1:  Loss at 0.27671465277671814 Validation Accuracy at 0.6887998580932617\n",
      "Epoch 40, CIFAR-10 Batch 2:  Loss at 0.28843191266059875 Validation Accuracy at 0.6923998594284058\n",
      "Epoch 40, CIFAR-10 Batch 3:  Loss at 0.1876738965511322 Validation Accuracy at 0.6935998797416687\n",
      "Epoch 40, CIFAR-10 Batch 4:  Loss at 0.23037675023078918 Validation Accuracy at 0.6903998255729675\n",
      "Epoch 40, CIFAR-10 Batch 5:  Loss at 0.2650854289531708 Validation Accuracy at 0.6795998811721802\n",
      "Epoch 41, CIFAR-10 Batch 1:  Loss at 0.2738959789276123 Validation Accuracy at 0.6863998770713806\n",
      "Epoch 41, CIFAR-10 Batch 2:  Loss at 0.2706946134567261 Validation Accuracy at 0.6765998601913452\n",
      "Epoch 41, CIFAR-10 Batch 3:  Loss at 0.18867748975753784 Validation Accuracy at 0.6891998052597046\n",
      "Epoch 41, CIFAR-10 Batch 4:  Loss at 0.27671027183532715 Validation Accuracy at 0.6851998567581177\n",
      "Epoch 41, CIFAR-10 Batch 5:  Loss at 0.243892639875412 Validation Accuracy at 0.6833998560905457\n",
      "Epoch 42, CIFAR-10 Batch 1:  Loss at 0.2661544382572174 Validation Accuracy at 0.682999849319458\n",
      "Epoch 42, CIFAR-10 Batch 2:  Loss at 0.2738781273365021 Validation Accuracy at 0.6945998668670654\n",
      "Epoch 42, CIFAR-10 Batch 3:  Loss at 0.2256426364183426 Validation Accuracy at 0.6769998669624329\n",
      "Epoch 42, CIFAR-10 Batch 4:  Loss at 0.26269543170928955 Validation Accuracy at 0.6941999197006226\n",
      "Epoch 42, CIFAR-10 Batch 5:  Loss at 0.2662520408630371 Validation Accuracy at 0.6791998147964478\n",
      "Epoch 43, CIFAR-10 Batch 1:  Loss at 0.2873328924179077 Validation Accuracy at 0.6751998066902161\n",
      "Epoch 43, CIFAR-10 Batch 2:  Loss at 0.2620188295841217 Validation Accuracy at 0.6789999008178711\n",
      "Epoch 43, CIFAR-10 Batch 3:  Loss at 0.19359920918941498 Validation Accuracy at 0.67659991979599\n",
      "Epoch 43, CIFAR-10 Batch 4:  Loss at 0.2503131926059723 Validation Accuracy at 0.6873998641967773\n",
      "Epoch 43, CIFAR-10 Batch 5:  Loss at 0.24342863261699677 Validation Accuracy at 0.6835998892784119\n",
      "Epoch 44, CIFAR-10 Batch 1:  Loss at 0.25392594933509827 Validation Accuracy at 0.6839998364448547\n",
      "Epoch 44, CIFAR-10 Batch 2:  Loss at 0.26650506258010864 Validation Accuracy at 0.6903998255729675\n",
      "Epoch 44, CIFAR-10 Batch 3:  Loss at 0.18934868276119232 Validation Accuracy at 0.6839998364448547\n",
      "Epoch 44, CIFAR-10 Batch 4:  Loss at 0.2277485430240631 Validation Accuracy at 0.6935998797416687\n",
      "Epoch 44, CIFAR-10 Batch 5:  Loss at 0.2327711433172226 Validation Accuracy at 0.6917998790740967\n",
      "Epoch 45, CIFAR-10 Batch 1:  Loss at 0.23316951096057892 Validation Accuracy at 0.6833998560905457\n",
      "Epoch 45, CIFAR-10 Batch 2:  Loss at 0.2538699507713318 Validation Accuracy at 0.691399872303009\n",
      "Epoch 45, CIFAR-10 Batch 3:  Loss at 0.1850626915693283 Validation Accuracy at 0.6831998229026794\n",
      "Epoch 45, CIFAR-10 Batch 4:  Loss at 0.23832666873931885 Validation Accuracy at 0.6907998919487\n",
      "Epoch 45, CIFAR-10 Batch 5:  Loss at 0.22407789528369904 Validation Accuracy at 0.6903998255729675\n",
      "Epoch 46, CIFAR-10 Batch 1:  Loss at 0.241133451461792 Validation Accuracy at 0.6905998587608337\n",
      "Epoch 46, CIFAR-10 Batch 2:  Loss at 0.2450401484966278 Validation Accuracy at 0.6931998133659363\n",
      "Epoch 46, CIFAR-10 Batch 3:  Loss at 0.18132847547531128 Validation Accuracy at 0.6917998194694519\n",
      "Epoch 46, CIFAR-10 Batch 4:  Loss at 0.2155175358057022 Validation Accuracy at 0.6935999393463135\n",
      "Epoch 46, CIFAR-10 Batch 5:  Loss at 0.2294984757900238 Validation Accuracy at 0.6953998804092407\n",
      "Epoch 47, CIFAR-10 Batch 1:  Loss at 0.22553540766239166 Validation Accuracy at 0.692599892616272\n",
      "Epoch 47, CIFAR-10 Batch 2:  Loss at 0.2317308485507965 Validation Accuracy at 0.6937998533248901\n",
      "Epoch 47, CIFAR-10 Batch 3:  Loss at 0.18610221147537231 Validation Accuracy at 0.6951999068260193\n",
      "Epoch 47, CIFAR-10 Batch 4:  Loss at 0.22252821922302246 Validation Accuracy at 0.6951999068260193\n",
      "Epoch 47, CIFAR-10 Batch 5:  Loss at 0.24268071353435516 Validation Accuracy at 0.6915998458862305\n",
      "Epoch 48, CIFAR-10 Batch 1:  Loss at 0.227633535861969 Validation Accuracy at 0.6861998438835144\n",
      "Epoch 48, CIFAR-10 Batch 2:  Loss at 0.23434478044509888 Validation Accuracy at 0.6957998275756836\n",
      "Epoch 48, CIFAR-10 Batch 3:  Loss at 0.15863582491874695 Validation Accuracy at 0.6909998655319214\n",
      "Epoch 48, CIFAR-10 Batch 4:  Loss at 0.19418366253376007 Validation Accuracy at 0.6967998743057251\n",
      "Epoch 48, CIFAR-10 Batch 5:  Loss at 0.24036552011966705 Validation Accuracy at 0.6885998249053955\n",
      "Epoch 49, CIFAR-10 Batch 1:  Loss at 0.23020502924919128 Validation Accuracy at 0.6965998411178589\n",
      "Epoch 49, CIFAR-10 Batch 2:  Loss at 0.2048431634902954 Validation Accuracy at 0.700999915599823\n",
      "Epoch 49, CIFAR-10 Batch 3:  Loss at 0.14774349331855774 Validation Accuracy at 0.6991998553276062\n",
      "Epoch 49, CIFAR-10 Batch 4:  Loss at 0.2278503179550171 Validation Accuracy at 0.6837998628616333\n",
      "Epoch 49, CIFAR-10 Batch 5:  Loss at 0.1995825320482254 Validation Accuracy at 0.689599871635437\n",
      "Epoch 50, CIFAR-10 Batch 1:  Loss at 0.2323855757713318 Validation Accuracy at 0.6879999041557312\n",
      "Epoch 50, CIFAR-10 Batch 2:  Loss at 0.22782984375953674 Validation Accuracy at 0.6989998817443848\n",
      "Epoch 50, CIFAR-10 Batch 3:  Loss at 0.15490128099918365 Validation Accuracy at 0.6929998397827148\n",
      "Epoch 50, CIFAR-10 Batch 4:  Loss at 0.2056034803390503 Validation Accuracy at 0.6959998607635498\n",
      "Epoch 50, CIFAR-10 Batch 5:  Loss at 0.21918536722660065 Validation Accuracy at 0.6909999251365662\n"
     ]
    }
   ],
   "source": [
    "\"\"\"\n",
    "DON'T MODIFY ANYTHING IN THIS CELL\n",
    "\"\"\"\n",
    "save_model_path = './image_classification'\n",
    "\n",
    "print('Training...')\n",
    "with tf.Session() as sess:\n",
    "    # Initializing the variables\n",
    "    sess.run(tf.global_variables_initializer())\n",
    "    \n",
    "    # Training cycle\n",
    "    for epoch in range(epochs):\n",
    "        # Loop over all batches\n",
    "        n_batches = 5\n",
    "        for batch_i in range(1, n_batches + 1):\n",
    "            for batch_features, batch_labels in helper.load_preprocess_training_batch(batch_i, batch_size):\n",
    "                train_neural_network(sess, optimizer, keep_probability, batch_features, batch_labels)\n",
    "            print('Epoch {:>2}, CIFAR-10 Batch {}:  '.format(epoch + 1, batch_i), end='')\n",
    "            print_stats(sess, batch_features, batch_labels, cost, accuracy)\n",
    "            \n",
    "    # Save Model\n",
    "    saver = tf.train.Saver()\n",
    "    save_path = saver.save(sess, save_model_path)"
   ]
  },
  {
   "cell_type": "markdown",
   "metadata": {
    "deletable": true,
    "editable": true
   },
   "source": [
    "# Checkpoint\n",
    "The model has been saved to disk.\n",
    "## Test Model\n",
    "Test your model against the test dataset.  This will be your final accuracy. You should have an accuracy greater than 50%. If you don't, keep tweaking the model architecture and parameters."
   ]
  },
  {
   "cell_type": "code",
   "execution_count": 12,
   "metadata": {
    "collapsed": false,
    "deletable": true,
    "editable": true,
    "scrolled": true
   },
   "outputs": [
    {
     "name": "stdout",
     "output_type": "stream",
     "text": [
      "Testing Accuracy: 0.6876953125\n",
      "\n"
     ]
    },
    {
     "data": {
      "image/png": "[encoded data removed]",
      "text/plain": [
       "<matplotlib.figure.Figure at 0x7fa1ec357ef0>"
      ]
     },
     "metadata": {
      "image/png": {
       "height": 319,
       "width": 355
      }
     },
     "output_type": "display_data"
    }
   ],
   "source": [
    "\"\"\"\n",
    "DON'T MODIFY ANYTHING IN THIS CELL\n",
    "\"\"\"\n",
    "%matplotlib inline\n",
    "%config InlineBackend.figure_format = 'retina'\n",
    "\n",
    "import tensorflow as tf\n",
    "import pickle\n",
    "import helper\n",
    "import random\n",
    "\n",
    "# Set batch size if not already set\n",
    "try:\n",
    "    if batch_size:\n",
    "        pass\n",
    "except NameError:\n",
    "    batch_size = 64\n",
    "\n",
    "save_model_path = './image_classification'\n",
    "n_samples = 4\n",
    "top_n_predictions = 3\n",
    "\n",
    "def test_model():\n",
    "    \"\"\"\n",
    "    Test the saved model against the test dataset\n",
    "    \"\"\"\n",
    "\n",
    "    test_features, test_labels = pickle.load(open('preprocess_training.p', mode='rb'))\n",
    "    loaded_graph = tf.Graph()\n",
    "\n",
    "    with tf.Session(graph=loaded_graph) as sess:\n",
    "        # Load model\n",
    "        loader = tf.train.import_meta_graph(save_model_path + '.meta')\n",
    "        loader.restore(sess, save_model_path)\n",
    "\n",
    "        # Get Tensors from loaded model\n",
    "        loaded_x = loaded_graph.get_tensor_by_name('x:0')\n",
    "        loaded_y = loaded_graph.get_tensor_by_name('y:0')\n",
    "        loaded_keep_prob = loaded_graph.get_tensor_by_name('keep_prob:0')\n",
    "        loaded_logits = loaded_graph.get_tensor_by_name('logits:0')\n",
    "        loaded_acc = loaded_graph.get_tensor_by_name('accuracy:0')\n",
    "        \n",
    "        # Get accuracy in batches for memory limitations\n",
    "        test_batch_acc_total = 0\n",
    "        test_batch_count = 0\n",
    "        \n",
    "        for train_feature_batch, train_label_batch in helper.batch_features_labels(test_features, test_labels, batch_size):\n",
    "            test_batch_acc_total += sess.run(\n",
    "                loaded_acc,\n",
    "                feed_dict={loaded_x: train_feature_batch, loaded_y: train_label_batch, loaded_keep_prob: 1.0})\n",
    "            test_batch_count += 1\n",
    "\n",
    "        print('Testing Accuracy: {}\\n'.format(test_batch_acc_total/test_batch_count))\n",
    "\n",
    "        # Print Random Samples\n",
    "        random_test_features, random_test_labels = tuple(zip(*random.sample(list(zip(test_features, test_labels)), n_samples)))\n",
    "        random_test_predictions = sess.run(\n",
    "            tf.nn.top_k(tf.nn.softmax(loaded_logits), top_n_predictions),\n",
    "            feed_dict={loaded_x: random_test_features, loaded_y: random_test_labels, loaded_keep_prob: 1.0})\n",
    "        helper.display_image_predictions(random_test_features, random_test_labels, random_test_predictions)\n",
    "\n",
    "\n",
    "test_model()"
   ]
  },
  {
   "cell_type": "markdown",
   "metadata": {
    "deletable": true,
    "editable": true
   },
   "source": [
    "## Why 50-80% Accuracy?\n",
    "You might be wondering why you can't get an accuracy any higher. First things first, 50% isn't bad for a simple CNN.  Pure guessing would get you 10% accuracy. However, you might notice people are getting scores [well above 80%](http://rodrigob.github.io/are_we_there_yet/build/classification_datasets_results.html#43494641522d3130).  That's because we haven't taught you all there is to know about neural networks. We still need to cover a few more techniques.\n",
    "## Submitting This Project\n",
    "When submitting this project, make sure to run all the cells before saving the notebook.  Save the notebook file as \"dlnd_image_classification.ipynb\" and save it as a HTML file under \"File\" -> \"Download as\".  Include the \"helper.py\" and \"problem_unittests.py\" files in your submission."
   ]
  }
 ],
 "metadata": {
  "kernelspec": {
   "display_name": "Python 3",
   "language": "python",
   "name": "python3"
  },
  "language_info": {
   "codemirror_mode": {
    "name": "ipython",
    "version": 3
   },
   "file_extension": ".py",
   "mimetype": "text/x-python",
   "name": "python",
   "nbconvert_exporter": "python",
   "pygments_lexer": "ipython3",
   "version": "3.5.2"
  },
  "widgets": {
   "state": {},
   "version": "1.1.2"
  }
 },
 "nbformat": 4,
 "nbformat_minor": 0
}
