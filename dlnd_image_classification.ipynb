{
 "cells": [
  {
   "cell_type": "markdown",
   "metadata": {
    "collapsed": true,
    "deletable": true,
    "editable": true
   },
   "source": [
    "# Image Classification\n",
    "In this project, you'll classify images from the [CIFAR-10 dataset](https://www.cs.toronto.edu/~kriz/cifar.html).  The dataset consists of airplanes, dogs, cats, and other objects. You'll preprocess the images, then train a convolutional neural network on all the samples. The images need to be normalized and the labels need to be one-hot encoded.  You'll get to apply what you learned and build a convolutional, max pooling, dropout, and fully connected layers.  At the end, you'll get to see your neural network's predictions on the sample images.\n",
    "## Get the Data\n",
    "Run the following cell to download the [CIFAR-10 dataset for python](https://www.cs.toronto.edu/~kriz/cifar-10-python.tar.gz)."
   ]
  },
  {
   "cell_type": "code",
   "execution_count": 68,
   "metadata": {
    "collapsed": false,
    "deletable": true,
    "editable": true
   },
   "outputs": [
    {
     "name": "stdout",
     "output_type": "stream",
     "text": [
      "All files found!\n"
     ]
    }
   ],
   "source": [
    "\"\"\"\n",
    "DON'T MODIFY ANYTHING IN THIS CELL THAT IS BELOW THIS LINE\n",
    "\"\"\"\n",
    "from urllib.request import urlretrieve\n",
    "from os.path import isfile, isdir\n",
    "from tqdm import tqdm\n",
    "import problem_unittests as tests\n",
    "import tarfile\n",
    "\n",
    "cifar10_dataset_folder_path = 'cifar-10-batches-py'\n",
    "\n",
    "class DLProgress(tqdm):\n",
    "    last_block = 0\n",
    "\n",
    "    def hook(self, block_num=1, block_size=1, total_size=None):\n",
    "        self.total = total_size\n",
    "        self.update((block_num - self.last_block) * block_size)\n",
    "        self.last_block = block_num\n",
    "\n",
    "if not isfile('cifar-10-python.tar.gz'):\n",
    "    with DLProgress(unit='B', unit_scale=True, miniters=1, desc='CIFAR-10 Dataset') as pbar:\n",
    "        urlretrieve(\n",
    "            'https://www.cs.toronto.edu/~kriz/cifar-10-python.tar.gz',\n",
    "            'cifar-10-python.tar.gz',\n",
    "            pbar.hook)\n",
    "\n",
    "if not isdir(cifar10_dataset_folder_path):\n",
    "    with tarfile.open('cifar-10-python.tar.gz') as tar:\n",
    "        tar.extractall()\n",
    "        tar.close()\n",
    "\n",
    "\n",
    "tests.test_folder_path(cifar10_dataset_folder_path)"
   ]
  },
  {
   "cell_type": "markdown",
   "metadata": {
    "deletable": true,
    "editable": true
   },
   "source": [
    "## Explore the Data\n",
    "The dataset is broken into batches to prevent your machine from running out of memory.  The CIFAR-10 dataset consists of 5 batches, named `data_batch_1`, `data_batch_2`, etc.. Each batch contains the labels and images that are one of the following:\n",
    "* airplane\n",
    "* automobile\n",
    "* bird\n",
    "* cat\n",
    "* deer\n",
    "* dog\n",
    "* frog\n",
    "* horse\n",
    "* ship\n",
    "* truck\n",
    "\n",
    "Understanding a dataset is part of making predictions on the data.  Play around with the code cell below by changing the `batch_id` and `sample_id`. The `batch_id` is the id for a batch (1-5). The `sample_id` is the id for a image and label pair in the batch.\n",
    "\n",
    "Ask yourself \"What are all possible labels?\", \"What is the range of values for the image data?\", \"Are the labels in order or random?\".  Answers to questions like these will help you preprocess the data and end up with better predictions."
   ]
  },
  {
   "cell_type": "code",
   "execution_count": 69,
   "metadata": {
    "collapsed": false,
    "deletable": true,
    "editable": true
   },
   "outputs": [
    {
     "name": "stdout",
     "output_type": "stream",
     "text": [
      "\n",
      "Stats of batch 4:\n",
      "Samples: 10000\n",
      "Label Counts: {0: 1003, 1: 963, 2: 1041, 3: 976, 4: 1004, 5: 1021, 6: 1004, 7: 981, 8: 1024, 9: 983}\n",
      "First 20 Labels: [0, 6, 0, 2, 7, 2, 1, 2, 4, 1, 5, 6, 6, 3, 1, 3, 5, 5, 8, 1]\n",
      "\n",
      "Example of Image 5:\n",
      "Image - Min Value: 13 Max Value: 169\n",
      "Image - Shape: (32, 32, 3)\n",
      "Label - Label Id: 2 Name: bird\n"
     ]
    },
    {
     "data": {
      "image/png": "[encoded data removed]",
      "text/plain": [
       "<matplotlib.figure.Figure at 0x7f99658c8710>"
      ]
     },
     "metadata": {
      "image/png": {
       "height": 250,
       "width": 253
      }
     },
     "output_type": "display_data"
    }
   ],
   "source": [
    "%matplotlib inline\n",
    "%config InlineBackend.figure_format = 'retina'\n",
    "\n",
    "import helper\n",
    "import numpy as np\n",
    "\n",
    "# Explore the dataset\n",
    "batch_id = 4\n",
    "sample_id = 5\n",
    "helper.display_stats(cifar10_dataset_folder_path, batch_id, sample_id)"
   ]
  },
  {
   "cell_type": "markdown",
   "metadata": {
    "deletable": true,
    "editable": true
   },
   "source": [
    "## Implement Preprocess Functions\n",
    "### Normalize\n",
    "In the cell below, implement the `normalize` function to take in image data, `x`, and return it as a normalized Numpy array. The values should be in the range of 0 to 1, inclusive.  The return object should be the same shape as `x`."
   ]
  },
  {
   "cell_type": "code",
   "execution_count": 70,
   "metadata": {
    "collapsed": false,
    "deletable": true,
    "editable": true
   },
   "outputs": [
    {
     "name": "stdout",
     "output_type": "stream",
     "text": [
      "Tests Passed\n"
     ]
    }
   ],
   "source": [
    "def normalize(x):\n",
    "    \"\"\"\n",
    "    Normalize a list of sample image data in the range of 0 to 1\n",
    "    : x: List of image data.  The image shape is (32, 32, 3)\n",
    "    : return: Numpy array of normalize data\n",
    "    \"\"\"\n",
    "    # TODO: Implement Function\n",
    "    a = 0.0\n",
    "    b = 1.0\n",
    "    x_minval = np.min(x)\n",
    "    x_maxval = np.max(x)\n",
    "    return a + ( ( (x - x_minval)*(b - a) )/(x_maxval - x_minval) )\n",
    "\n",
    "\n",
    "\n",
    "\n",
    "\n",
    "\"\"\"\n",
    "DON'T MODIFY ANYTHING IN THIS CELL THAT IS BELOW THIS LINE\n",
    "\"\"\"\n",
    "tests.test_normalize(normalize)"
   ]
  },
  {
   "cell_type": "markdown",
   "metadata": {
    "deletable": true,
    "editable": true
   },
   "source": [
    "### One-hot encode\n",
    "Just like the previous code cell, you'll be implementing a function for preprocessing.  This time, you'll implement the `one_hot_encode` function. The input, `x`, are a list of labels.  Implement the function to return the list of labels as One-Hot encoded Numpy array.  The possible values for labels are 0 to 9. The one-hot encoding function should return the same encoding for each value between each call to `one_hot_encode`.  Make sure to save the map of encodings outside the function.\n",
    "\n",
    "Hint: Don't reinvent the wheel."
   ]
  },
  {
   "cell_type": "code",
   "execution_count": 71,
   "metadata": {
    "collapsed": false,
    "deletable": true,
    "editable": true
   },
   "outputs": [
    {
     "name": "stdout",
     "output_type": "stream",
     "text": [
      "Tests Passed\n"
     ]
    }
   ],
   "source": [
    "from sklearn import preprocessing\n",
    "lb = None\n",
    "\n",
    "def one_hot_encode(x):\n",
    "    \"\"\"\n",
    "    One hot encode a list of sample labels. Return a one-hot encoded vector for each label.\n",
    "    : x: List of sample Labels\n",
    "    : return: Numpy array of one-hot encoded labels\n",
    "    \"\"\"\n",
    "    # TODO: Implement Function\n",
    "    global lb\n",
    "    if lb is None:\n",
    "        lb = preprocessing.LabelBinarizer()\n",
    "        lb.fit(x)\n",
    "    oneHot = lb.transform(x)\n",
    "    return oneHot\n",
    "\n",
    "\n",
    "\"\"\"\n",
    "DON'T MODIFY ANYTHING IN THIS CELL THAT IS BELOW THIS LINE\n",
    "\"\"\"\n",
    "tests.test_one_hot_encode(one_hot_encode)"
   ]
  },
  {
   "cell_type": "markdown",
   "metadata": {
    "deletable": true,
    "editable": true
   },
   "source": [
    "### Randomize Data\n",
    "As you saw from exploring the data above, the order of the samples are randomized.  It doesn't hurt to randomize it again, but you don't need to for this dataset."
   ]
  },
  {
   "cell_type": "markdown",
   "metadata": {
    "deletable": true,
    "editable": true
   },
   "source": [
    "## Preprocess all the data and save it\n",
    "Running the code cell below will preprocess all the CIFAR-10 data and save it to file. The code below also uses 10% of the training data for validation."
   ]
  },
  {
   "cell_type": "code",
   "execution_count": 72,
   "metadata": {
    "collapsed": false,
    "deletable": true,
    "editable": true
   },
   "outputs": [],
   "source": [
    "\"\"\"\n",
    "DON'T MODIFY ANYTHING IN THIS CELL\n",
    "\"\"\"\n",
    "# Preprocess Training, Validation, and Testing Data\n",
    "helper.preprocess_and_save_data(cifar10_dataset_folder_path, normalize, one_hot_encode)"
   ]
  },
  {
   "cell_type": "markdown",
   "metadata": {
    "deletable": true,
    "editable": true
   },
   "source": [
    "# Check Point\n",
    "This is your first checkpoint.  If you ever decide to come back to this notebook or have to restart the notebook, you can start from here.  The preprocessed data has been saved to disk."
   ]
  },
  {
   "cell_type": "code",
   "execution_count": 1,
   "metadata": {
    "collapsed": true,
    "deletable": true,
    "editable": true
   },
   "outputs": [],
   "source": [
    "\"\"\"\n",
    "DON'T MODIFY ANYTHING IN THIS CELL\n",
    "\"\"\"\n",
    "import pickle\n",
    "import problem_unittests as tests\n",
    "import helper\n",
    "\n",
    "# Load the Preprocessed Validation data\n",
    "valid_features, valid_labels = pickle.load(open('preprocess_validation.p', mode='rb'))"
   ]
  },
  {
   "cell_type": "markdown",
   "metadata": {
    "deletable": true,
    "editable": true
   },
   "source": [
    "## Build the network\n",
    "For the neural network, you'll build each layer into a function.  Most of the code you've seen has been outside of functions. To test your code more thoroughly, we require that you put each layer in a function.  This allows us to give you better feedback and test for simple mistakes using our unittests before you submit your project.\n",
    "\n",
    ">**Note:** If you're finding it hard to dedicate enough time for this course each week, we've provided a small shortcut to this part of the project. In the next couple of problems, you'll have the option to use classes from the [TensorFlow Layers](https://www.tensorflow.org/api_docs/python/tf/layers) or [TensorFlow Layers (contrib)](https://www.tensorflow.org/api_guides/python/contrib.layers) packages to build each layer, except the layers you build in the \"Convolutional and Max Pooling Layer\" section.  TF Layers is similar to Keras's and TFLearn's abstraction to layers, so it's easy to pickup.\n",
    "\n",
    ">However, if you would like to get the most out of this course, try to solve all the problems _without_ using anything from the TF Layers packages. You **can** still use classes from other packages that happen to have the same name as ones you find in TF Layers! For example, instead of using the TF Layers version of the `conv2d` class, [tf.layers.conv2d](https://www.tensorflow.org/api_docs/python/tf/layers/conv2d), you would want to use the TF Neural Network version of `conv2d`, [tf.nn.conv2d](https://www.tensorflow.org/api_docs/python/tf/nn/conv2d). \n",
    "\n",
    "Let's begin!\n",
    "\n",
    "### Input\n",
    "The neural network needs to read the image data, one-hot encoded labels, and dropout keep probability. Implement the following functions\n",
    "* Implement `neural_net_image_input`\n",
    " * Return a [TF Placeholder](https://www.tensorflow.org/api_docs/python/tf/placeholder)\n",
    " * Set the shape using `image_shape` with batch size set to `None`.\n",
    " * Name the TensorFlow placeholder \"x\" using the TensorFlow `name` parameter in the [TF Placeholder](https://www.tensorflow.org/api_docs/python/tf/placeholder).\n",
    "* Implement `neural_net_label_input`\n",
    " * Return a [TF Placeholder](https://www.tensorflow.org/api_docs/python/tf/placeholder)\n",
    " * Set the shape using `n_classes` with batch size set to `None`.\n",
    " * Name the TensorFlow placeholder \"y\" using the TensorFlow `name` parameter in the [TF Placeholder](https://www.tensorflow.org/api_docs/python/tf/placeholder).\n",
    "* Implement `neural_net_keep_prob_input`\n",
    " * Return a [TF Placeholder](https://www.tensorflow.org/api_docs/python/tf/placeholder) for dropout keep probability.\n",
    " * Name the TensorFlow placeholder \"keep_prob\" using the TensorFlow `name` parameter in the [TF Placeholder](https://www.tensorflow.org/api_docs/python/tf/placeholder).\n",
    "\n",
    "These names will be used at the end of the project to load your saved model.\n",
    "\n",
    "Note: `None` for shapes in TensorFlow allow for a dynamic size."
   ]
  },
  {
   "cell_type": "code",
   "execution_count": 2,
   "metadata": {
    "collapsed": false,
    "deletable": true,
    "editable": true
   },
   "outputs": [
    {
     "name": "stdout",
     "output_type": "stream",
     "text": [
      "Image Input Tests Passed.\n",
      "Label Input Tests Passed.\n",
      "Keep Prob Tests Passed.\n"
     ]
    }
   ],
   "source": [
    "import tensorflow as tf\n",
    "\n",
    "def neural_net_image_input(image_shape):\n",
    "    \"\"\"\n",
    "    Return a Tensor for a batch of image input\n",
    "    : image_shape: Shape of the images\n",
    "    : return: Tensor for image input.\n",
    "    \"\"\"\n",
    "    # TODO: Implement Function\n",
    "    return tf.placeholder(tf.float32, shape=[None,*image_shape], name='x')\n",
    "\n",
    "\n",
    "def neural_net_label_input(n_classes):\n",
    "    \"\"\"\n",
    "    Return a Tensor for a batch of label input\n",
    "    : n_classes: Number of classes\n",
    "    : return: Tensor for label input.\n",
    "    \"\"\"\n",
    "    # TODO: Implement Function\n",
    "    return tf.placeholder(tf.float32, shape=(None,n_classes), name='y')\n",
    "\n",
    "\n",
    "def neural_net_keep_prob_input():\n",
    "    \"\"\"\n",
    "    Return a Tensor for keep probability\n",
    "    : return: Tensor for keep probability.\n",
    "    \"\"\"\n",
    "    # TODO: Implement Function\n",
    "    keep_prob = tf.placeholder(tf.float32, name='keep_prob')\n",
    "    return keep_prob\n",
    "\n",
    "\n",
    "\"\"\"\n",
    "DON'T MODIFY ANYTHING IN THIS CELL THAT IS BELOW THIS LINE\n",
    "\"\"\"\n",
    "tf.reset_default_graph()\n",
    "tests.test_nn_image_inputs(neural_net_image_input)\n",
    "tests.test_nn_label_inputs(neural_net_label_input)\n",
    "tests.test_nn_keep_prob_inputs(neural_net_keep_prob_input)"
   ]
  },
  {
   "cell_type": "markdown",
   "metadata": {
    "deletable": true,
    "editable": true
   },
   "source": [
    "### Convolution and Max Pooling Layer\n",
    "Convolution layers have a lot of success with images. For this code cell, you should implement the function `conv2d_maxpool` to apply convolution then max pooling:\n",
    "* Create the weight and bias using `conv_ksize`, `conv_num_outputs` and the shape of `x_tensor`.\n",
    "* Apply a convolution to `x_tensor` using weight and `conv_strides`.\n",
    " * We recommend you use same padding, but you're welcome to use any padding.\n",
    "* Add bias\n",
    "* Add a nonlinear activation to the convolution.\n",
    "* Apply Max Pooling using `pool_ksize` and `pool_strides`.\n",
    " * We recommend you use same padding, but you're welcome to use any padding.\n",
    "\n",
    "**Note:** You **can't** use [TensorFlow Layers](https://www.tensorflow.org/api_docs/python/tf/layers) or [TensorFlow Layers (contrib)](https://www.tensorflow.org/api_guides/python/contrib.layers) for **this** layer, but you can still use TensorFlow's [Neural Network](https://www.tensorflow.org/api_docs/python/tf/nn) package. You may still use the shortcut option for all the **other** layers."
   ]
  },
  {
   "cell_type": "code",
   "execution_count": 65,
   "metadata": {
    "collapsed": false,
    "deletable": true,
    "editable": true
   },
   "outputs": [
    {
     "name": "stdout",
     "output_type": "stream",
     "text": [
      "Tests Passed\n"
     ]
    }
   ],
   "source": [
    "def conv2d_maxpool(x_tensor, conv_num_outputs, conv_ksize, conv_strides, pool_ksize, pool_strides):\n",
    "    \"\"\"\n",
    "    Apply convolution then max pooling to x_tensor\n",
    "    :param x_tensor: TensorFlow Tensor\n",
    "    :param conv_num_outputs: Number of outputs for the convolutional layer\n",
    "    :param conv_ksize: kernal size 2-D Tuple for the convolutional layer\n",
    "    :param conv_strides: Stride 2-D Tuple for convolution\n",
    "    :param pool_ksize: kernal size 2-D Tuple for pool\n",
    "    :param pool_strides: Stride 2-D Tuple for pool\n",
    "    : return: A tensor that represents convolution and max pooling of x_tensor\n",
    "    \"\"\"\n",
    "    # TODO: Implement Function\n",
    "    weight = tf.Variable(tf.truncated_normal([*conv_ksize, int(x_tensor.shape[3]), conv_num_outputs],\n",
    "                                             mean=0.0,     # EDIT THIS\n",
    "                                             stddev=0.03,  # EDIT THIS\n",
    "                                             dtype=tf.float32))\n",
    "    bias = tf.Variable(tf.zeros(conv_num_outputs))\n",
    "    \n",
    "    conv_layer = tf.nn.conv2d(input=x_tensor, \n",
    "                              filter=weight, \n",
    "                              strides=[1,*conv_strides,1], \n",
    "                              padding='SAME')\n",
    "    \n",
    "    conv_layer = tf.nn.bias_add(conv_layer, bias)\n",
    "    \n",
    "    conv_layer = tf.nn.relu(conv_layer)\n",
    "    \n",
    "    conv_layer = tf.nn.max_pool(value=conv_layer, \n",
    "                                ksize = [1, *pool_ksize,1],\n",
    "                                strides = [1, *pool_strides, 1], \n",
    "                                padding='SAME')\n",
    "    return conv_layer\n",
    "\n",
    "\n",
    "\"\"\"\n",
    "DON'T MODIFY ANYTHING IN THIS CELL THAT IS BELOW THIS LINE\n",
    "\"\"\"\n",
    "tests.test_con_pool(conv2d_maxpool)"
   ]
  },
  {
   "cell_type": "markdown",
   "metadata": {
    "deletable": true,
    "editable": true
   },
   "source": [
    "### Flatten Layer\n",
    "Implement the `flatten` function to change the dimension of `x_tensor` from a 4-D tensor to a 2-D tensor.  The output should be the shape (*Batch Size*, *Flattened Image Size*). Shortcut option: you can use classes from the [TensorFlow Layers](https://www.tensorflow.org/api_docs/python/tf/layers) or [TensorFlow Layers (contrib)](https://www.tensorflow.org/api_guides/python/contrib.layers) packages for this layer. For more of a challenge, only use other TensorFlow packages."
   ]
  },
  {
   "cell_type": "code",
   "execution_count": 66,
   "metadata": {
    "collapsed": false,
    "deletable": true,
    "editable": true
   },
   "outputs": [
    {
     "name": "stdout",
     "output_type": "stream",
     "text": [
      "Tests Passed\n"
     ]
    }
   ],
   "source": [
    "def flatten(x_tensor):\n",
    "    \"\"\"\n",
    "    Flatten x_tensor to (Batch Size, Flattened Image Size)\n",
    "    : x_tensor: A tensor of size (Batch Size, ...), where ... are the image dimensions.\n",
    "    : return: A tensor of size (Batch Size, Flattened Image Size).\n",
    "    \"\"\"\n",
    "    # TODO: Implement Function\n",
    "    flattened_tensor = tf.contrib.layers.flatten(x_tensor)\n",
    "    return flattened_tensor\n",
    "\n",
    "\n",
    "\"\"\"\n",
    "DON'T MODIFY ANYTHING IN THIS CELL THAT IS BELOW THIS LINE\n",
    "\"\"\"\n",
    "tests.test_flatten(flatten)"
   ]
  },
  {
   "cell_type": "markdown",
   "metadata": {
    "deletable": true,
    "editable": true
   },
   "source": [
    "### Fully-Connected Layer\n",
    "Implement the `fully_conn` function to apply a fully connected layer to `x_tensor` with the shape (*Batch Size*, *num_outputs*). Shortcut option: you can use classes from the [TensorFlow Layers](https://www.tensorflow.org/api_docs/python/tf/layers) or [TensorFlow Layers (contrib)](https://www.tensorflow.org/api_guides/python/contrib.layers) packages for this layer. For more of a challenge, only use other TensorFlow packages."
   ]
  },
  {
   "cell_type": "code",
   "execution_count": 67,
   "metadata": {
    "collapsed": false,
    "deletable": true,
    "editable": true
   },
   "outputs": [
    {
     "name": "stdout",
     "output_type": "stream",
     "text": [
      "Tests Passed\n"
     ]
    }
   ],
   "source": [
    "def fully_conn(x_tensor, num_outputs):\n",
    "    \"\"\"\n",
    "    Apply a fully connected layer to x_tensor using weight and bias\n",
    "    : x_tensor: A 2-D tensor where the first dimension is batch size.\n",
    "    : num_outputs: The number of output that the new tensor should be.\n",
    "    : return: A 2-D tensor where the second dimension is num_outputs.\n",
    "    \"\"\"\n",
    "    # TODO: Implement Function\n",
    "    output = tf.contrib.layers.fully_connected(x_tensor, \n",
    "                                               num_outputs,\n",
    "                                               activation_fn = None)\n",
    "    return output\n",
    "\n",
    "\n",
    "\"\"\"\n",
    "DON'T MODIFY ANYTHING IN THIS CELL THAT IS BELOW THIS LINE\n",
    "\"\"\"\n",
    "tests.test_fully_conn(fully_conn)"
   ]
  },
  {
   "cell_type": "markdown",
   "metadata": {
    "deletable": true,
    "editable": true
   },
   "source": [
    "### Output Layer\n",
    "Implement the `output` function to apply a fully connected layer to `x_tensor` with the shape (*Batch Size*, *num_outputs*). Shortcut option: you can use classes from the [TensorFlow Layers](https://www.tensorflow.org/api_docs/python/tf/layers) or [TensorFlow Layers (contrib)](https://www.tensorflow.org/api_guides/python/contrib.layers) packages for this layer. For more of a challenge, only use other TensorFlow packages.\n",
    "\n",
    "**Note:** Activation, softmax, or cross entropy should **not** be applied to this."
   ]
  },
  {
   "cell_type": "code",
   "execution_count": 68,
   "metadata": {
    "collapsed": false,
    "deletable": true,
    "editable": true
   },
   "outputs": [
    {
     "name": "stdout",
     "output_type": "stream",
     "text": [
      "Tests Passed\n"
     ]
    }
   ],
   "source": [
    "def output(x_tensor, num_outputs):\n",
    "    \"\"\"\n",
    "    Apply a output layer to x_tensor using weight and bias\n",
    "    : x_tensor: A 2-D tensor where the first dimension is batch size.\n",
    "    : num_outputs: The number of output that the new tensor should be.\n",
    "    : return: A 2-D tensor where the second dimension is num_outputs.\n",
    "    \"\"\"\n",
    "    # TODO: Implement Function\n",
    "    output = tf.contrib.layers.fully_connected(x_tensor, \n",
    "                                               num_outputs,\n",
    "                                               activation_fn = None)\n",
    "    return output\n",
    "\n",
    "#the same as the fully connected layer?\n",
    "\n",
    "\"\"\"\n",
    "DON'T MODIFY ANYTHING IN THIS CELL THAT IS BELOW THIS LINE\n",
    "\"\"\"\n",
    "tests.test_output(output)"
   ]
  },
  {
   "cell_type": "markdown",
   "metadata": {
    "deletable": true,
    "editable": true
   },
   "source": [
    "### Create Convolutional Model\n",
    "Implement the function `conv_net` to create a convolutional neural network model. The function takes in a batch of images, `x`, and outputs logits.  Use the layers you created above to create this model:\n",
    "\n",
    "* Apply 1, 2, or 3 Convolution and Max Pool layers\n",
    "* Apply a Flatten Layer\n",
    "* Apply 1, 2, or 3 Fully Connected Layers\n",
    "* Apply an Output Layer\n",
    "* Return the output\n",
    "* Apply [TensorFlow's Dropout](https://www.tensorflow.org/api_docs/python/tf/nn/dropout) to one or more layers in the model using `keep_prob`. "
   ]
  },
  {
   "cell_type": "code",
   "execution_count": 73,
   "metadata": {
    "collapsed": false,
    "deletable": true,
    "editable": true
   },
   "outputs": [
    {
     "name": "stdout",
     "output_type": "stream",
     "text": [
      "Neural Network Built!\n"
     ]
    }
   ],
   "source": [
    "def conv_net(x, keep_prob):\n",
    "    \"\"\"\n",
    "    Create a convolutional neural network model\n",
    "    : x: Placeholder tensor that holds image data.\n",
    "    : keep_prob: Placeholder tensor that hold dropout keep probability.\n",
    "    : return: Tensor that represents logits\n",
    "    \"\"\"\n",
    "    # TODO: Apply 1, 2, or 3 Convolution and Max Pool layers\n",
    "    #    Play around with different number of outputs, kernel size and stride\n",
    "    # Function Definition from Above:\n",
    "    #    conv2d_maxpool(x_tensor, conv_num_outputs, conv_ksize, conv_strides, pool_ksize, pool_strides)\n",
    "    \n",
    "    conv_num_outputs1 = 16              #         EDIT HERE\n",
    "    conv_num_outputs2 = 32              #         EDIT HERE\n",
    "    conv_num_outputs3 = 64              #         EDIT HERE\n",
    "    \n",
    "    conv_ksize1 = (4,4)              #         EDIT HERE\n",
    "    conv_ksize2 = (4,4)              #         EDIT HERE\n",
    "    conv_ksize3 = (4,4)              #         EDIT HERE\n",
    "    \n",
    "    conv_strides1 = (2,2)              #         EDIT HERE\n",
    "    conv_strides2 = (2,2)              #         EDIT HERE\n",
    "    conv_strides3 = (2,2)              #         EDIT HERE\n",
    "    \n",
    "    pool_ksize1 = (2,2)              #         EDIT HERE\n",
    "    pool_ksize2 = (2,2)              #         EDIT HERE\n",
    "    pool_ksize3 = (1,1)              #         EDIT HERE\n",
    "    \n",
    "    pool_strides1 = (1,1)              #         EDIT HERE\n",
    "    pool_strides2 = (2,2)              #         EDIT HERE\n",
    "    pool_strides3 = (1,1)              #         EDIT HERE\n",
    "    \n",
    "    conv1 = conv2d_maxpool(x,\n",
    "                           conv_num_outputs=conv_num_outputs1,\n",
    "                           conv_ksize=conv_ksize1,\n",
    "                           conv_strides=conv_strides1,\n",
    "                           pool_ksize=pool_ksize1,\n",
    "                           pool_strides=pool_strides1)\n",
    "    conv2 = conv2d_maxpool(conv1,\n",
    "                           conv_num_outputs=conv_num_outputs2,\n",
    "                           conv_ksize=conv_ksize2,\n",
    "                           conv_strides=conv_strides2,\n",
    "                           pool_ksize=pool_ksize2,\n",
    "                           pool_strides=pool_strides2)\n",
    "    conv3 = conv2d_maxpool(conv2,\n",
    "                           conv_num_outputs=conv_num_outputs3,\n",
    "                           conv_ksize=conv_ksize3,\n",
    "                           conv_strides=conv_strides3,\n",
    "                           pool_ksize=pool_ksize3,\n",
    "                           pool_strides=pool_strides3)\n",
    "    conv3 = tf.nn.dropout(conv3, keep_prob)\n",
    "    \n",
    "    # TODO: Apply a Flatten Layer\n",
    "    # Function Definition from Above:\n",
    "    #   flatten(x_tensor)\n",
    "    \n",
    "    flat_layer = flatten(conv3)\n",
    "\n",
    "    # TODO: Apply 1, 2, or 3 Fully Connected Layers\n",
    "    #    Play around with different number of outputs\n",
    "    # Function Definition from Above:\n",
    "    #   fully_conn(x_tensor, num_outputs)\n",
    "    \n",
    "    fully_co = fully_conn(flat_layer,1500)           #          EDIT HERE\n",
    "    fully_co = tf.nn.dropout(fully_co, keep_prob)\n",
    "    fully_co = fully_conn(fully_co,750)              #         EDIT HERE\n",
    "    fully_co = tf.nn.dropout(fully_co, keep_prob)\n",
    "    # TODO: Apply an Output Layer\n",
    "    #    Set this to the number of classes\n",
    "    # Function Definition from Above:\n",
    "    #   output(x_tensor, num_outputs)\n",
    "    \n",
    "    out = output(fully_co, 10)\n",
    "    \n",
    "    # TODO: return output\n",
    "    return out\n",
    "\n",
    "\n",
    "\"\"\"\n",
    "DON'T MODIFY ANYTHING IN THIS CELL THAT IS BELOW THIS LINE\n",
    "\"\"\"\n",
    "\n",
    "##############################\n",
    "## Build the Neural Network ##\n",
    "##############################\n",
    "\n",
    "# Remove previous weights, bias, inputs, etc..\n",
    "tf.reset_default_graph()\n",
    "\n",
    "# Inputs\n",
    "x = neural_net_image_input((32, 32, 3))\n",
    "y = neural_net_label_input(10)\n",
    "keep_prob = neural_net_keep_prob_input()\n",
    "\n",
    "# Model\n",
    "logits = conv_net(x, keep_prob)\n",
    "\n",
    "# Name logits Tensor, so that is can be loaded from disk after training\n",
    "logits = tf.identity(logits, name='logits')\n",
    "\n",
    "# Loss and Optimizer\n",
    "cost = tf.reduce_mean(tf.nn.softmax_cross_entropy_with_logits(logits=logits, labels=y))\n",
    "optimizer = tf.train.AdamOptimizer().minimize(cost)\n",
    "\n",
    "# Accuracy\n",
    "correct_pred = tf.equal(tf.argmax(logits, 1), tf.argmax(y, 1))\n",
    "accuracy = tf.reduce_mean(tf.cast(correct_pred, tf.float32), name='accuracy')\n",
    "\n",
    "tests.test_conv_net(conv_net)"
   ]
  },
  {
   "cell_type": "markdown",
   "metadata": {
    "deletable": true,
    "editable": true
   },
   "source": [
    "## Train the Neural Network\n",
    "### Single Optimization\n",
    "Implement the function `train_neural_network` to do a single optimization.  The optimization should use `optimizer` to optimize in `session` with a `feed_dict` of the following:\n",
    "* `x` for image input\n",
    "* `y` for labels\n",
    "* `keep_prob` for keep probability for dropout\n",
    "\n",
    "This function will be called for each batch, so `tf.global_variables_initializer()` has already been called.\n",
    "\n",
    "Note: Nothing needs to be returned. This function is only optimizing the neural network."
   ]
  },
  {
   "cell_type": "code",
   "execution_count": 74,
   "metadata": {
    "collapsed": false,
    "deletable": true,
    "editable": true
   },
   "outputs": [
    {
     "name": "stdout",
     "output_type": "stream",
     "text": [
      "Tests Passed\n"
     ]
    }
   ],
   "source": [
    "def train_neural_network(session, optimizer, keep_probability, feature_batch, label_batch):\n",
    "    \"\"\"\n",
    "    Optimize the session on a batch of images and labels\n",
    "    : session: Current TensorFlow session\n",
    "    : optimizer: TensorFlow optimizer function\n",
    "    : keep_probability: keep probability\n",
    "    : feature_batch: Batch of Numpy image data\n",
    "    : label_batch: Batch of Numpy label data\n",
    "    \"\"\"\n",
    "    # TODO: Implement Function\n",
    "    session.run(optimizer, \n",
    "                feed_dict={x:feature_batch, \n",
    "                           y:label_batch, \n",
    "                           keep_prob:keep_probability})\n",
    "\n",
    "\n",
    "\"\"\"\n",
    "DON'T MODIFY ANYTHING IN THIS CELL THAT IS BELOW THIS LINE\n",
    "\"\"\"\n",
    "tests.test_train_nn(train_neural_network)"
   ]
  },
  {
   "cell_type": "markdown",
   "metadata": {
    "deletable": true,
    "editable": true
   },
   "source": [
    "### Show Stats\n",
    "Implement the function `print_stats` to print loss and validation accuracy.  Use the global variables `valid_features` and `valid_labels` to calculate validation accuracy.  Use a keep probability of `1.0` to calculate the loss and validation accuracy."
   ]
  },
  {
   "cell_type": "code",
   "execution_count": 75,
   "metadata": {
    "collapsed": false,
    "deletable": true,
    "editable": true
   },
   "outputs": [],
   "source": [
    "def print_stats(session, feature_batch, label_batch, cost, accuracy):\n",
    "    \"\"\"\n",
    "    Print information about loss and validation accuracy\n",
    "    : session: Current TensorFlow session\n",
    "    : feature_batch: Batch of Numpy image data\n",
    "    : label_batch: Batch of Numpy label data\n",
    "    : cost: TensorFlow cost function\n",
    "    : accuracy: TensorFlow accuracy function\n",
    "    \"\"\"\n",
    "    # TODO: Implement Function\n",
    "    loss = sess.run(cost, feed_dict={x: feature_batch, y:label_batch, keep_prob:1.0})\n",
    "    accuracy = session.run(accuracy, feed_dict={x: valid_features, y: valid_labels,keep_prob: 1.0})\n",
    "    print('Loss at {}'.format(loss), 'Validation Accuracy at {}'.format(accuracy))"
   ]
  },
  {
   "cell_type": "markdown",
   "metadata": {
    "deletable": true,
    "editable": true
   },
   "source": [
    "### Hyperparameters\n",
    "Tune the following parameters:\n",
    "* Set `epochs` to the number of iterations until the network stops learning or start overfitting\n",
    "* Set `batch_size` to the highest number that your machine has memory for.  Most people set them to common sizes of memory:\n",
    " * 64\n",
    " * 128\n",
    " * 256\n",
    " * ...\n",
    "* Set `keep_probability` to the probability of keeping a node using dropout"
   ]
  },
  {
   "cell_type": "markdown",
   "metadata": {
    "deletable": true,
    "editable": true
   },
   "source": [
    "### Train on a Single CIFAR-10 Batch\n",
    "Instead of training the neural network on all the CIFAR-10 batches of data, let's use a single batch. This should save time while you iterate on the model to get a better accuracy.  Once the final validation accuracy is 50% or greater, run the model on all the data in the next section."
   ]
  },
  {
   "cell_type": "code",
   "execution_count": 76,
   "metadata": {
    "collapsed": false,
    "deletable": true,
    "editable": true
   },
   "outputs": [
    {
     "name": "stdout",
     "output_type": "stream",
     "text": [
      "Checking the Training on a Single Batch...\n",
      "Epoch  1, CIFAR-10 Batch 1:  Loss at 2.179342031478882 Validation Accuracy at 0.2865999937057495\n",
      "Epoch  2, CIFAR-10 Batch 1:  Loss at 1.9736268520355225 Validation Accuracy at 0.3742000162601471\n",
      "Epoch  3, CIFAR-10 Batch 1:  Loss at 1.8548048734664917 Validation Accuracy at 0.3935999870300293\n",
      "Epoch  4, CIFAR-10 Batch 1:  Loss at 1.6972788572311401 Validation Accuracy at 0.4219999611377716\n",
      "Epoch  5, CIFAR-10 Batch 1:  Loss at 1.5831949710845947 Validation Accuracy at 0.4465999901294708\n",
      "Epoch  6, CIFAR-10 Batch 1:  Loss at 1.4935147762298584 Validation Accuracy at 0.45959997177124023\n",
      "Epoch  7, CIFAR-10 Batch 1:  Loss at 1.3407930135726929 Validation Accuracy at 0.486799955368042\n",
      "Epoch  8, CIFAR-10 Batch 1:  Loss at 1.2155606746673584 Validation Accuracy at 0.49959996342658997\n",
      "Epoch  9, CIFAR-10 Batch 1:  Loss at 1.1512372493743896 Validation Accuracy at 0.5037999749183655\n",
      "Epoch 10, CIFAR-10 Batch 1:  Loss at 1.0432255268096924 Validation Accuracy at 0.5063999891281128\n",
      "Epoch 11, CIFAR-10 Batch 1:  Loss at 1.0318727493286133 Validation Accuracy at 0.4897999167442322\n",
      "Epoch 12, CIFAR-10 Batch 1:  Loss at 0.8437016010284424 Validation Accuracy at 0.5237998962402344\n",
      "Epoch 13, CIFAR-10 Batch 1:  Loss at 0.7903264164924622 Validation Accuracy at 0.5327998995780945\n",
      "Epoch 14, CIFAR-10 Batch 1:  Loss at 0.7249336242675781 Validation Accuracy at 0.5305999517440796\n",
      "Epoch 15, CIFAR-10 Batch 1:  Loss at 0.7624727487564087 Validation Accuracy at 0.5229999423027039\n",
      "Epoch 16, CIFAR-10 Batch 1:  Loss at 0.6573226451873779 Validation Accuracy at 0.5341999530792236\n",
      "Epoch 17, CIFAR-10 Batch 1:  Loss at 0.6470426321029663 Validation Accuracy at 0.5241999626159668\n",
      "Epoch 18, CIFAR-10 Batch 1:  Loss at 0.5932963490486145 Validation Accuracy at 0.5303999185562134\n",
      "Epoch 19, CIFAR-10 Batch 1:  Loss at 0.49463772773742676 Validation Accuracy at 0.545199990272522\n",
      "Epoch 20, CIFAR-10 Batch 1:  Loss at 0.4489428400993347 Validation Accuracy at 0.5445999503135681\n",
      "Epoch 21, CIFAR-10 Batch 1:  Loss at 0.48895636200904846 Validation Accuracy at 0.5403999090194702\n",
      "Epoch 22, CIFAR-10 Batch 1:  Loss at 0.4558223783969879 Validation Accuracy at 0.5317999124526978\n",
      "Epoch 23, CIFAR-10 Batch 1:  Loss at 0.42328837513923645 Validation Accuracy at 0.5559999346733093\n",
      "Epoch 24, CIFAR-10 Batch 1:  Loss at 0.35188964009284973 Validation Accuracy at 0.5547999143600464\n",
      "Epoch 25, CIFAR-10 Batch 1:  Loss at 0.36567026376724243 Validation Accuracy at 0.5467999577522278\n",
      "Epoch 26, CIFAR-10 Batch 1:  Loss at 0.3142886757850647 Validation Accuracy at 0.5501999258995056\n",
      "Epoch 27, CIFAR-10 Batch 1:  Loss at 0.314055472612381 Validation Accuracy at 0.5465999841690063\n",
      "Epoch 28, CIFAR-10 Batch 1:  Loss at 0.37747877836227417 Validation Accuracy at 0.5419999361038208\n",
      "Epoch 29, CIFAR-10 Batch 1:  Loss at 0.325756698846817 Validation Accuracy at 0.5523999333381653\n",
      "Epoch 30, CIFAR-10 Batch 1:  Loss at 0.2528795599937439 Validation Accuracy at 0.5657999515533447\n",
      "Epoch 31, CIFAR-10 Batch 1:  Loss at 0.2566883862018585 Validation Accuracy at 0.5579999089241028\n",
      "Epoch 32, CIFAR-10 Batch 1:  Loss at 0.26209160685539246 Validation Accuracy at 0.5577999353408813\n",
      "Epoch 33, CIFAR-10 Batch 1:  Loss at 0.24393188953399658 Validation Accuracy at 0.5639999508857727\n",
      "Epoch 34, CIFAR-10 Batch 1:  Loss at 0.20227493345737457 Validation Accuracy at 0.5549999475479126\n",
      "Epoch 35, CIFAR-10 Batch 1:  Loss at 0.25773775577545166 Validation Accuracy at 0.5355998873710632\n",
      "Epoch 36, CIFAR-10 Batch 1:  Loss at 0.22573894262313843 Validation Accuracy at 0.5309999585151672\n",
      "Epoch 37, CIFAR-10 Batch 1:  Loss at 0.22610582411289215 Validation Accuracy at 0.5443999767303467\n",
      "Epoch 38, CIFAR-10 Batch 1:  Loss at 0.19035835564136505 Validation Accuracy at 0.5451999306678772\n",
      "Epoch 39, CIFAR-10 Batch 1:  Loss at 0.21281276643276215 Validation Accuracy at 0.5451999306678772\n",
      "Epoch 40, CIFAR-10 Batch 1:  Loss at 0.15827180445194244 Validation Accuracy at 0.5437999367713928\n",
      "Epoch 41, CIFAR-10 Batch 1:  Loss at 0.16141170263290405 Validation Accuracy at 0.5529999732971191\n",
      "Epoch 42, CIFAR-10 Batch 1:  Loss at 0.14923520386219025 Validation Accuracy at 0.5511999726295471\n",
      "Epoch 43, CIFAR-10 Batch 1:  Loss at 0.1456470489501953 Validation Accuracy at 0.5529999732971191\n",
      "Epoch 44, CIFAR-10 Batch 1:  Loss at 0.14511078596115112 Validation Accuracy at 0.5595999360084534\n",
      "Epoch 45, CIFAR-10 Batch 1:  Loss at 0.13492096960544586 Validation Accuracy at 0.5493999719619751\n",
      "Epoch 46, CIFAR-10 Batch 1:  Loss at 0.10575561225414276 Validation Accuracy at 0.5571999549865723\n",
      "Epoch 47, CIFAR-10 Batch 1:  Loss at 0.12872430682182312 Validation Accuracy at 0.5531998872756958\n",
      "Epoch 48, CIFAR-10 Batch 1:  Loss at 0.12259294092655182 Validation Accuracy at 0.5471999645233154\n",
      "Epoch 49, CIFAR-10 Batch 1:  Loss at 0.10349375754594803 Validation Accuracy at 0.5529999732971191\n",
      "Epoch 50, CIFAR-10 Batch 1:  Loss at 0.10405972599983215 Validation Accuracy at 0.5549999475479126\n"
     ]
    }
   ],
   "source": [
    "# TODO: Tune Parameters\n",
    "epochs = 50\n",
    "batch_size = 256\n",
    "keep_probability = .5\n",
    "\n",
    "\"\"\"\n",
    "DON'T MODIFY ANYTHING IN THIS CELL\n",
    "\"\"\"\n",
    "print('Checking the Training on a Single Batch...')\n",
    "with tf.Session() as sess:\n",
    "    # Initializing the variables\n",
    "    sess.run(tf.global_variables_initializer())\n",
    "    \n",
    "    # Training cycle\n",
    "    for epoch in range(epochs):\n",
    "        batch_i = 1\n",
    "        for batch_features, batch_labels in helper.load_preprocess_training_batch(batch_i, batch_size):\n",
    "            train_neural_network(sess, optimizer, keep_probability, batch_features, batch_labels)\n",
    "        print('Epoch {:>2}, CIFAR-10 Batch {}:  '.format(epoch + 1, batch_i), end='')\n",
    "        print_stats(sess, batch_features, batch_labels, cost, accuracy)"
   ]
  },
  {
   "cell_type": "markdown",
   "metadata": {
    "deletable": true,
    "editable": true
   },
   "source": [
    "### Fully Train the Model\n",
    "Now that you got a good accuracy with a single CIFAR-10 batch, try it with all five batches."
   ]
  },
  {
   "cell_type": "code",
   "execution_count": 77,
   "metadata": {
    "collapsed": false,
    "deletable": true,
    "editable": true
   },
   "outputs": [
    {
     "name": "stdout",
     "output_type": "stream",
     "text": [
      "Training...\n",
      "Epoch  1, CIFAR-10 Batch 1:  Loss at 2.105175495147705 Validation Accuracy at 0.28699997067451477\n",
      "Epoch  1, CIFAR-10 Batch 2:  Loss at 1.8027241230010986 Validation Accuracy at 0.3441999852657318\n",
      "Epoch  1, CIFAR-10 Batch 3:  Loss at 1.5189077854156494 Validation Accuracy at 0.3863999843597412\n",
      "Epoch  1, CIFAR-10 Batch 4:  Loss at 1.6148591041564941 Validation Accuracy at 0.4357999861240387\n",
      "Epoch  1, CIFAR-10 Batch 5:  Loss at 1.4641025066375732 Validation Accuracy at 0.44339996576309204\n",
      "Epoch  2, CIFAR-10 Batch 1:  Loss at 1.6598001718521118 Validation Accuracy at 0.45559996366500854\n",
      "Epoch  2, CIFAR-10 Batch 2:  Loss at 1.482784390449524 Validation Accuracy at 0.44859999418258667\n",
      "Epoch  2, CIFAR-10 Batch 3:  Loss at 1.1564217805862427 Validation Accuracy at 0.44839999079704285\n",
      "Epoch  2, CIFAR-10 Batch 4:  Loss at 1.353132963180542 Validation Accuracy at 0.496599942445755\n",
      "Epoch  2, CIFAR-10 Batch 5:  Loss at 1.355499505996704 Validation Accuracy at 0.5027999877929688\n",
      "Epoch  3, CIFAR-10 Batch 1:  Loss at 1.3703547716140747 Validation Accuracy at 0.5169999599456787\n",
      "Epoch  3, CIFAR-10 Batch 2:  Loss at 1.2710273265838623 Validation Accuracy at 0.5123999714851379\n",
      "Epoch  3, CIFAR-10 Batch 3:  Loss at 1.0491797924041748 Validation Accuracy at 0.4979999363422394\n",
      "Epoch  3, CIFAR-10 Batch 4:  Loss at 1.1845091581344604 Validation Accuracy at 0.5269999504089355\n",
      "Epoch  3, CIFAR-10 Batch 5:  Loss at 1.2418618202209473 Validation Accuracy at 0.5393999218940735\n",
      "Epoch  4, CIFAR-10 Batch 1:  Loss at 1.1471962928771973 Validation Accuracy at 0.553399920463562\n",
      "Epoch  4, CIFAR-10 Batch 2:  Loss at 1.116914987564087 Validation Accuracy at 0.538599967956543\n",
      "Epoch  4, CIFAR-10 Batch 3:  Loss at 0.97750324010849 Validation Accuracy at 0.5263999700546265\n",
      "Epoch  4, CIFAR-10 Batch 4:  Loss at 1.0431079864501953 Validation Accuracy at 0.5731999278068542\n",
      "Epoch  4, CIFAR-10 Batch 5:  Loss at 1.0948081016540527 Validation Accuracy at 0.5659999251365662\n",
      "Epoch  5, CIFAR-10 Batch 1:  Loss at 1.0959430932998657 Validation Accuracy at 0.5799999237060547\n",
      "Epoch  5, CIFAR-10 Batch 2:  Loss at 1.0178534984588623 Validation Accuracy at 0.555199921131134\n",
      "Epoch  5, CIFAR-10 Batch 3:  Loss at 0.8409205079078674 Validation Accuracy at 0.5749999284744263\n",
      "Epoch  5, CIFAR-10 Batch 4:  Loss at 0.9288220405578613 Validation Accuracy at 0.5903999209403992\n",
      "Epoch  5, CIFAR-10 Batch 5:  Loss at 1.0041592121124268 Validation Accuracy at 0.5755999088287354\n",
      "Epoch  6, CIFAR-10 Batch 1:  Loss at 0.9623952507972717 Validation Accuracy at 0.6017999053001404\n",
      "Epoch  6, CIFAR-10 Batch 2:  Loss at 0.9492344856262207 Validation Accuracy at 0.5593999028205872\n",
      "Epoch  6, CIFAR-10 Batch 3:  Loss at 0.7274777889251709 Validation Accuracy at 0.5791999697685242\n",
      "Epoch  6, CIFAR-10 Batch 4:  Loss at 0.821543276309967 Validation Accuracy at 0.6029998660087585\n",
      "Epoch  6, CIFAR-10 Batch 5:  Loss at 0.9101428389549255 Validation Accuracy at 0.6027998924255371\n",
      "Epoch  7, CIFAR-10 Batch 1:  Loss at 0.8406325578689575 Validation Accuracy at 0.5977998971939087\n",
      "Epoch  7, CIFAR-10 Batch 2:  Loss at 0.835396409034729 Validation Accuracy at 0.6103999018669128\n",
      "Epoch  7, CIFAR-10 Batch 3:  Loss at 0.6695057153701782 Validation Accuracy at 0.5959999561309814\n",
      "Epoch  7, CIFAR-10 Batch 4:  Loss at 0.7889971137046814 Validation Accuracy at 0.6005998849868774\n",
      "Epoch  7, CIFAR-10 Batch 5:  Loss at 0.8477754592895508 Validation Accuracy at 0.609799861907959\n",
      "Epoch  8, CIFAR-10 Batch 1:  Loss at 0.8293280601501465 Validation Accuracy at 0.6205999255180359\n",
      "Epoch  8, CIFAR-10 Batch 2:  Loss at 0.7822672724723816 Validation Accuracy at 0.603399932384491\n",
      "Epoch  8, CIFAR-10 Batch 3:  Loss at 0.5999269485473633 Validation Accuracy at 0.6271998286247253\n",
      "Epoch  8, CIFAR-10 Batch 4:  Loss at 0.6828736662864685 Validation Accuracy at 0.6271999478340149\n",
      "Epoch  8, CIFAR-10 Batch 5:  Loss at 0.7712548971176147 Validation Accuracy at 0.6267999410629272\n",
      "Epoch  9, CIFAR-10 Batch 1:  Loss at 0.7772867679595947 Validation Accuracy at 0.6291999220848083\n",
      "Epoch  9, CIFAR-10 Batch 2:  Loss at 0.8394268751144409 Validation Accuracy at 0.624799907207489\n",
      "Epoch  9, CIFAR-10 Batch 3:  Loss at 0.5716469287872314 Validation Accuracy at 0.6187998652458191\n",
      "Epoch  9, CIFAR-10 Batch 4:  Loss at 0.6709076762199402 Validation Accuracy at 0.6207998991012573\n",
      "Epoch  9, CIFAR-10 Batch 5:  Loss at 0.6803451776504517 Validation Accuracy at 0.6323999166488647\n",
      "Epoch 10, CIFAR-10 Batch 1:  Loss at 0.6575942635536194 Validation Accuracy at 0.634199857711792\n",
      "Epoch 10, CIFAR-10 Batch 2:  Loss at 0.6874291300773621 Validation Accuracy at 0.6351999044418335\n",
      "Epoch 10, CIFAR-10 Batch 3:  Loss at 0.5904582142829895 Validation Accuracy at 0.6351999044418335\n",
      "Epoch 10, CIFAR-10 Batch 4:  Loss at 0.5943304896354675 Validation Accuracy at 0.6439999341964722\n",
      "Epoch 10, CIFAR-10 Batch 5:  Loss at 0.7268759608268738 Validation Accuracy at 0.6301999092102051\n",
      "Epoch 11, CIFAR-10 Batch 1:  Loss at 0.6593095064163208 Validation Accuracy at 0.6379998326301575\n",
      "Epoch 11, CIFAR-10 Batch 2:  Loss at 0.6480114459991455 Validation Accuracy at 0.6521998643875122\n",
      "Epoch 11, CIFAR-10 Batch 3:  Loss at 0.4669833779335022 Validation Accuracy at 0.6237999200820923\n",
      "Epoch 11, CIFAR-10 Batch 4:  Loss at 0.6581611633300781 Validation Accuracy at 0.6263998746871948\n",
      "Epoch 11, CIFAR-10 Batch 5:  Loss at 0.635844886302948 Validation Accuracy at 0.6447999477386475\n",
      "Epoch 12, CIFAR-10 Batch 1:  Loss at 0.6046901941299438 Validation Accuracy at 0.6497998833656311\n",
      "Epoch 12, CIFAR-10 Batch 2:  Loss at 0.6120145320892334 Validation Accuracy at 0.650399923324585\n",
      "Epoch 12, CIFAR-10 Batch 3:  Loss at 0.4946567416191101 Validation Accuracy at 0.6427999138832092\n",
      "Epoch 12, CIFAR-10 Batch 4:  Loss at 0.6102896332740784 Validation Accuracy at 0.6185998916625977\n",
      "Epoch 12, CIFAR-10 Batch 5:  Loss at 0.594304084777832 Validation Accuracy at 0.6441999077796936\n",
      "Epoch 13, CIFAR-10 Batch 1:  Loss at 0.5794264078140259 Validation Accuracy at 0.6545999050140381\n",
      "Epoch 13, CIFAR-10 Batch 2:  Loss at 0.6156165599822998 Validation Accuracy at 0.6553998589515686\n",
      "Epoch 13, CIFAR-10 Batch 3:  Loss at 0.4854855537414551 Validation Accuracy at 0.6287999153137207\n",
      "Epoch 13, CIFAR-10 Batch 4:  Loss at 0.5407655239105225 Validation Accuracy at 0.6421999335289001\n",
      "Epoch 13, CIFAR-10 Batch 5:  Loss at 0.5721613168716431 Validation Accuracy at 0.6485998630523682\n",
      "Epoch 14, CIFAR-10 Batch 1:  Loss at 0.519853413105011 Validation Accuracy at 0.651999831199646\n",
      "Epoch 14, CIFAR-10 Batch 2:  Loss at 0.4831695258617401 Validation Accuracy at 0.6547998785972595\n",
      "Epoch 14, CIFAR-10 Batch 3:  Loss at 0.37369388341903687 Validation Accuracy at 0.6515998840332031\n",
      "Epoch 14, CIFAR-10 Batch 4:  Loss at 0.5179355144500732 Validation Accuracy at 0.6451998949050903\n",
      "Epoch 14, CIFAR-10 Batch 5:  Loss at 0.526113748550415 Validation Accuracy at 0.6543998718261719\n",
      "Epoch 15, CIFAR-10 Batch 1:  Loss at 0.49051663279533386 Validation Accuracy at 0.6577998399734497\n",
      "Epoch 15, CIFAR-10 Batch 2:  Loss at 0.5341101288795471 Validation Accuracy at 0.6487998366355896\n",
      "Epoch 15, CIFAR-10 Batch 3:  Loss at 0.384665310382843 Validation Accuracy at 0.6483999490737915\n",
      "Epoch 15, CIFAR-10 Batch 4:  Loss at 0.5222524404525757 Validation Accuracy at 0.6431999206542969\n",
      "Epoch 15, CIFAR-10 Batch 5:  Loss at 0.519598126411438 Validation Accuracy at 0.6545999050140381\n",
      "Epoch 16, CIFAR-10 Batch 1:  Loss at 0.5514619946479797 Validation Accuracy at 0.6543998718261719\n",
      "Epoch 16, CIFAR-10 Batch 2:  Loss at 0.4759387671947479 Validation Accuracy at 0.6663998961448669\n",
      "Epoch 16, CIFAR-10 Batch 3:  Loss at 0.3956231474876404 Validation Accuracy at 0.6595998406410217\n",
      "Epoch 16, CIFAR-10 Batch 4:  Loss at 0.5066599249839783 Validation Accuracy at 0.64739990234375\n",
      "Epoch 16, CIFAR-10 Batch 5:  Loss at 0.44874194264411926 Validation Accuracy at 0.657599925994873\n",
      "Epoch 17, CIFAR-10 Batch 1:  Loss at 0.5319327712059021 Validation Accuracy at 0.6629998683929443\n",
      "Epoch 17, CIFAR-10 Batch 2:  Loss at 0.4466204047203064 Validation Accuracy at 0.6645998954772949\n",
      "Epoch 17, CIFAR-10 Batch 3:  Loss at 0.4076147675514221 Validation Accuracy at 0.6441999077796936\n",
      "Epoch 17, CIFAR-10 Batch 4:  Loss at 0.44285082817077637 Validation Accuracy at 0.6551998853683472\n",
      "Epoch 17, CIFAR-10 Batch 5:  Loss at 0.4152827858924866 Validation Accuracy at 0.6711998581886292\n",
      "Epoch 18, CIFAR-10 Batch 1:  Loss at 0.49129030108451843 Validation Accuracy at 0.6617999076843262\n",
      "Epoch 18, CIFAR-10 Batch 2:  Loss at 0.43999791145324707 Validation Accuracy at 0.6617999076843262\n",
      "Epoch 18, CIFAR-10 Batch 3:  Loss at 0.38390854001045227 Validation Accuracy at 0.6469999551773071\n",
      "Epoch 18, CIFAR-10 Batch 4:  Loss at 0.4354628920555115 Validation Accuracy at 0.6523998379707336\n",
      "Epoch 18, CIFAR-10 Batch 5:  Loss at 0.41261985898017883 Validation Accuracy at 0.6697998642921448\n",
      "Epoch 19, CIFAR-10 Batch 1:  Loss at 0.45661747455596924 Validation Accuracy at 0.664199948310852\n",
      "Epoch 19, CIFAR-10 Batch 2:  Loss at 0.39928677678108215 Validation Accuracy at 0.6595999002456665\n",
      "Epoch 19, CIFAR-10 Batch 3:  Loss at 0.37873128056526184 Validation Accuracy at 0.6567999124526978\n",
      "Epoch 19, CIFAR-10 Batch 4:  Loss at 0.4209919571876526 Validation Accuracy at 0.666999876499176\n",
      "Epoch 19, CIFAR-10 Batch 5:  Loss at 0.3642684817314148 Validation Accuracy at 0.6589998602867126\n",
      "Epoch 20, CIFAR-10 Batch 1:  Loss at 0.4605885148048401 Validation Accuracy at 0.6687999367713928\n",
      "Epoch 20, CIFAR-10 Batch 2:  Loss at 0.36586323380470276 Validation Accuracy at 0.6751998662948608\n",
      "Epoch 20, CIFAR-10 Batch 3:  Loss at 0.3662336468696594 Validation Accuracy at 0.6583999395370483\n",
      "Epoch 20, CIFAR-10 Batch 4:  Loss at 0.41049879789352417 Validation Accuracy at 0.6557998657226562\n",
      "Epoch 20, CIFAR-10 Batch 5:  Loss at 0.3427045941352844 Validation Accuracy at 0.6697999238967896\n",
      "Epoch 21, CIFAR-10 Batch 1:  Loss at 0.45152148604393005 Validation Accuracy at 0.6723999381065369\n",
      "Epoch 21, CIFAR-10 Batch 2:  Loss at 0.3580642342567444 Validation Accuracy at 0.6569998860359192\n",
      "Epoch 21, CIFAR-10 Batch 3:  Loss at 0.3541424572467804 Validation Accuracy at 0.6591998934745789\n",
      "Epoch 21, CIFAR-10 Batch 4:  Loss at 0.3928348422050476 Validation Accuracy at 0.6629998683929443\n",
      "Epoch 21, CIFAR-10 Batch 5:  Loss at 0.3504924178123474 Validation Accuracy at 0.674799919128418\n",
      "Epoch 22, CIFAR-10 Batch 1:  Loss at 0.4151090979576111 Validation Accuracy at 0.6731998920440674\n",
      "Epoch 22, CIFAR-10 Batch 2:  Loss at 0.372260719537735 Validation Accuracy at 0.6597999334335327\n",
      "Epoch 22, CIFAR-10 Batch 3:  Loss at 0.31567755341529846 Validation Accuracy at 0.6689999103546143\n",
      "Epoch 22, CIFAR-10 Batch 4:  Loss at 0.39589446783065796 Validation Accuracy at 0.6523998975753784\n",
      "Epoch 22, CIFAR-10 Batch 5:  Loss at 0.3465697169303894 Validation Accuracy at 0.676399827003479\n",
      "Epoch 23, CIFAR-10 Batch 1:  Loss at 0.435703843832016 Validation Accuracy at 0.6715998649597168\n",
      "Epoch 23, CIFAR-10 Batch 2:  Loss at 0.3830857574939728 Validation Accuracy at 0.6625998616218567\n",
      "Epoch 23, CIFAR-10 Batch 3:  Loss at 0.3509366512298584 Validation Accuracy at 0.668799877166748\n",
      "Epoch 23, CIFAR-10 Batch 4:  Loss at 0.4002631902694702 Validation Accuracy at 0.6725999116897583\n",
      "Epoch 23, CIFAR-10 Batch 5:  Loss at 0.312719464302063 Validation Accuracy at 0.6805999279022217\n",
      "Epoch 24, CIFAR-10 Batch 1:  Loss at 0.4502977728843689 Validation Accuracy at 0.675399899482727\n",
      "Epoch 24, CIFAR-10 Batch 2:  Loss at 0.33512789011001587 Validation Accuracy at 0.684999942779541\n",
      "Epoch 24, CIFAR-10 Batch 3:  Loss at 0.34238719940185547 Validation Accuracy at 0.6463999152183533\n",
      "Epoch 24, CIFAR-10 Batch 4:  Loss at 0.41919052600860596 Validation Accuracy at 0.6617999076843262\n",
      "Epoch 24, CIFAR-10 Batch 5:  Loss at 0.32494989037513733 Validation Accuracy at 0.6839998960494995\n",
      "Epoch 25, CIFAR-10 Batch 1:  Loss at 0.43395939469337463 Validation Accuracy at 0.6721999049186707\n",
      "Epoch 25, CIFAR-10 Batch 2:  Loss at 0.34774547815322876 Validation Accuracy at 0.6733999252319336\n",
      "Epoch 25, CIFAR-10 Batch 3:  Loss at 0.31121885776519775 Validation Accuracy at 0.6519998908042908\n",
      "Epoch 25, CIFAR-10 Batch 4:  Loss at 0.35324689745903015 Validation Accuracy at 0.6647999286651611\n",
      "Epoch 25, CIFAR-10 Batch 5:  Loss at 0.25841015577316284 Validation Accuracy at 0.6789999008178711\n",
      "Epoch 26, CIFAR-10 Batch 1:  Loss at 0.3993886709213257 Validation Accuracy at 0.6821999549865723\n",
      "Epoch 26, CIFAR-10 Batch 2:  Loss at 0.31054723262786865 Validation Accuracy at 0.6833998560905457\n",
      "Epoch 26, CIFAR-10 Batch 3:  Loss at 0.2723102271556854 Validation Accuracy at 0.6647998690605164\n",
      "Epoch 26, CIFAR-10 Batch 4:  Loss at 0.3189951777458191 Validation Accuracy at 0.6783998608589172\n",
      "Epoch 26, CIFAR-10 Batch 5:  Loss at 0.2606881260871887 Validation Accuracy at 0.6853998899459839\n",
      "Epoch 27, CIFAR-10 Batch 1:  Loss at 0.40362101793289185 Validation Accuracy at 0.6775999069213867\n",
      "Epoch 27, CIFAR-10 Batch 2:  Loss at 0.3102465271949768 Validation Accuracy at 0.6631999015808105\n",
      "Epoch 27, CIFAR-10 Batch 3:  Loss at 0.2946389317512512 Validation Accuracy at 0.6631999015808105\n",
      "Epoch 27, CIFAR-10 Batch 4:  Loss at 0.3655625879764557 Validation Accuracy at 0.6599998474121094\n",
      "Epoch 27, CIFAR-10 Batch 5:  Loss at 0.25589054822921753 Validation Accuracy at 0.6773998737335205\n",
      "Epoch 28, CIFAR-10 Batch 1:  Loss at 0.3873910903930664 Validation Accuracy at 0.6801998615264893\n",
      "Epoch 28, CIFAR-10 Batch 2:  Loss at 0.29138121008872986 Validation Accuracy at 0.674799919128418\n",
      "Epoch 28, CIFAR-10 Batch 3:  Loss at 0.28712794184684753 Validation Accuracy at 0.6665998697280884\n",
      "Epoch 28, CIFAR-10 Batch 4:  Loss at 0.3594066798686981 Validation Accuracy at 0.663399875164032\n",
      "Epoch 28, CIFAR-10 Batch 5:  Loss at 0.2426246851682663 Validation Accuracy at 0.6871998906135559\n",
      "Epoch 29, CIFAR-10 Batch 1:  Loss at 0.3915503919124603 Validation Accuracy at 0.6641998887062073\n",
      "Epoch 29, CIFAR-10 Batch 2:  Loss at 0.2666061818599701 Validation Accuracy at 0.6753998398780823\n",
      "Epoch 29, CIFAR-10 Batch 3:  Loss at 0.2872423231601715 Validation Accuracy at 0.6577998995780945\n",
      "Epoch 29, CIFAR-10 Batch 4:  Loss at 0.3081296384334564 Validation Accuracy at 0.6751999258995056\n",
      "Epoch 29, CIFAR-10 Batch 5:  Loss at 0.2484806329011917 Validation Accuracy at 0.6781998872756958\n",
      "Epoch 30, CIFAR-10 Batch 1:  Loss at 0.37644749879837036 Validation Accuracy at 0.6813998818397522\n",
      "Epoch 30, CIFAR-10 Batch 2:  Loss at 0.26986631751060486 Validation Accuracy at 0.6785998940467834\n",
      "Epoch 30, CIFAR-10 Batch 3:  Loss at 0.30257853865623474 Validation Accuracy at 0.6605998277664185\n",
      "Epoch 30, CIFAR-10 Batch 4:  Loss at 0.323259562253952 Validation Accuracy at 0.6683999300003052\n",
      "Epoch 30, CIFAR-10 Batch 5:  Loss at 0.2856791615486145 Validation Accuracy at 0.6801998615264893\n",
      "Epoch 31, CIFAR-10 Batch 1:  Loss at 0.35672950744628906 Validation Accuracy at 0.6705998778343201\n",
      "Epoch 31, CIFAR-10 Batch 2:  Loss at 0.2518490254878998 Validation Accuracy at 0.6761999130249023\n",
      "Epoch 31, CIFAR-10 Batch 3:  Loss at 0.2625589072704315 Validation Accuracy at 0.676399827003479\n",
      "Epoch 31, CIFAR-10 Batch 4:  Loss at 0.3514694571495056 Validation Accuracy at 0.6729998588562012\n",
      "Epoch 31, CIFAR-10 Batch 5:  Loss at 0.2527645230293274 Validation Accuracy at 0.6887999176979065\n",
      "Epoch 32, CIFAR-10 Batch 1:  Loss at 0.33066728711128235 Validation Accuracy at 0.6803998351097107\n",
      "Epoch 32, CIFAR-10 Batch 2:  Loss at 0.24602194130420685 Validation Accuracy at 0.6867998838424683\n",
      "Epoch 32, CIFAR-10 Batch 3:  Loss at 0.23695364594459534 Validation Accuracy at 0.6675998568534851\n",
      "Epoch 32, CIFAR-10 Batch 4:  Loss at 0.27184081077575684 Validation Accuracy at 0.6875998973846436\n",
      "Epoch 32, CIFAR-10 Batch 5:  Loss at 0.24887311458587646 Validation Accuracy at 0.668799877166748\n",
      "Epoch 33, CIFAR-10 Batch 1:  Loss at 0.3141775131225586 Validation Accuracy at 0.6757998466491699\n",
      "Epoch 33, CIFAR-10 Batch 2:  Loss at 0.3067769706249237 Validation Accuracy at 0.6701998710632324\n",
      "Epoch 33, CIFAR-10 Batch 3:  Loss at 0.25814980268478394 Validation Accuracy at 0.6761998534202576\n",
      "Epoch 33, CIFAR-10 Batch 4:  Loss at 0.28040921688079834 Validation Accuracy at 0.6799998879432678\n",
      "Epoch 33, CIFAR-10 Batch 5:  Loss at 0.24441950023174286 Validation Accuracy at 0.6867998838424683\n",
      "Epoch 34, CIFAR-10 Batch 1:  Loss at 0.3459322452545166 Validation Accuracy at 0.6817998290061951\n",
      "Epoch 34, CIFAR-10 Batch 2:  Loss at 0.29796934127807617 Validation Accuracy at 0.6705999374389648\n",
      "Epoch 34, CIFAR-10 Batch 3:  Loss at 0.29887881875038147 Validation Accuracy at 0.6563999056816101\n",
      "Epoch 34, CIFAR-10 Batch 4:  Loss at 0.3031330108642578 Validation Accuracy at 0.6729998588562012\n",
      "Epoch 34, CIFAR-10 Batch 5:  Loss at 0.2594844102859497 Validation Accuracy at 0.6915998458862305\n",
      "Epoch 35, CIFAR-10 Batch 1:  Loss at 0.35208430886268616 Validation Accuracy at 0.6847999691963196\n",
      "Epoch 35, CIFAR-10 Batch 2:  Loss at 0.2698395550251007 Validation Accuracy at 0.6815999150276184\n",
      "Epoch 35, CIFAR-10 Batch 3:  Loss at 0.24921450018882751 Validation Accuracy at 0.6821998953819275\n",
      "Epoch 35, CIFAR-10 Batch 4:  Loss at 0.2704647183418274 Validation Accuracy at 0.6845998764038086\n",
      "Epoch 35, CIFAR-10 Batch 5:  Loss at 0.22087262570858002 Validation Accuracy at 0.6881998777389526\n",
      "Epoch 36, CIFAR-10 Batch 1:  Loss at 0.387755811214447 Validation Accuracy at 0.6791998147964478\n",
      "Epoch 36, CIFAR-10 Batch 2:  Loss at 0.22041133046150208 Validation Accuracy at 0.6855998635292053\n",
      "Epoch 36, CIFAR-10 Batch 3:  Loss at 0.20092783868312836 Validation Accuracy at 0.6691998839378357\n",
      "Epoch 36, CIFAR-10 Batch 4:  Loss at 0.2866100072860718 Validation Accuracy at 0.692599892616272\n",
      "Epoch 36, CIFAR-10 Batch 5:  Loss at 0.23288390040397644 Validation Accuracy at 0.6781999468803406\n",
      "Epoch 37, CIFAR-10 Batch 1:  Loss at 0.3496209979057312 Validation Accuracy at 0.6761999130249023\n",
      "Epoch 37, CIFAR-10 Batch 2:  Loss at 0.23997604846954346 Validation Accuracy at 0.6873998641967773\n",
      "Epoch 37, CIFAR-10 Batch 3:  Loss at 0.22069931030273438 Validation Accuracy at 0.6755998730659485\n",
      "Epoch 37, CIFAR-10 Batch 4:  Loss at 0.2918936014175415 Validation Accuracy at 0.6851998567581177\n",
      "Epoch 37, CIFAR-10 Batch 5:  Loss at 0.18429157137870789 Validation Accuracy at 0.6921998858451843\n",
      "Epoch 38, CIFAR-10 Batch 1:  Loss at 0.33037427067756653 Validation Accuracy at 0.684199869632721\n",
      "Epoch 38, CIFAR-10 Batch 2:  Loss at 0.26353979110717773 Validation Accuracy at 0.6901999115943909\n",
      "Epoch 38, CIFAR-10 Batch 3:  Loss at 0.22848570346832275 Validation Accuracy at 0.6817999482154846\n",
      "Epoch 38, CIFAR-10 Batch 4:  Loss at 0.2529526352882385 Validation Accuracy at 0.6883999109268188\n",
      "Epoch 38, CIFAR-10 Batch 5:  Loss at 0.2716522216796875 Validation Accuracy at 0.6425999402999878\n",
      "Epoch 39, CIFAR-10 Batch 1:  Loss at 0.3136453330516815 Validation Accuracy at 0.6833999156951904\n",
      "Epoch 39, CIFAR-10 Batch 2:  Loss at 0.2305549830198288 Validation Accuracy at 0.6923998594284058\n",
      "Epoch 39, CIFAR-10 Batch 3:  Loss at 0.2398943305015564 Validation Accuracy at 0.6643998622894287\n",
      "Epoch 39, CIFAR-10 Batch 4:  Loss at 0.31015026569366455 Validation Accuracy at 0.6807999014854431\n",
      "Epoch 39, CIFAR-10 Batch 5:  Loss at 0.20912900567054749 Validation Accuracy at 0.6739999055862427\n",
      "Epoch 40, CIFAR-10 Batch 1:  Loss at 0.3568802773952484 Validation Accuracy at 0.6857998371124268\n",
      "Epoch 40, CIFAR-10 Batch 2:  Loss at 0.2348584085702896 Validation Accuracy at 0.6867998838424683\n",
      "Epoch 40, CIFAR-10 Batch 3:  Loss at 0.17573264241218567 Validation Accuracy at 0.6839998364448547\n",
      "Epoch 40, CIFAR-10 Batch 4:  Loss at 0.27831655740737915 Validation Accuracy at 0.6845998764038086\n",
      "Epoch 40, CIFAR-10 Batch 5:  Loss at 0.19162990152835846 Validation Accuracy at 0.6867998838424683\n",
      "Epoch 41, CIFAR-10 Batch 1:  Loss at 0.33928996324539185 Validation Accuracy at 0.6799998879432678\n",
      "Epoch 41, CIFAR-10 Batch 2:  Loss at 0.22845295071601868 Validation Accuracy at 0.6863998174667358\n",
      "Epoch 41, CIFAR-10 Batch 3:  Loss at 0.21227774024009705 Validation Accuracy at 0.6803998947143555\n",
      "Epoch 41, CIFAR-10 Batch 4:  Loss at 0.2626257538795471 Validation Accuracy at 0.6839998364448547\n",
      "Epoch 41, CIFAR-10 Batch 5:  Loss at 0.19348609447479248 Validation Accuracy at 0.6863999366760254\n",
      "Epoch 42, CIFAR-10 Batch 1:  Loss at 0.31003570556640625 Validation Accuracy at 0.675399899482727\n",
      "Epoch 42, CIFAR-10 Batch 2:  Loss at 0.2249533087015152 Validation Accuracy at 0.6899998784065247\n",
      "Epoch 42, CIFAR-10 Batch 3:  Loss at 0.1909254640340805 Validation Accuracy at 0.6801998615264893\n",
      "Epoch 42, CIFAR-10 Batch 4:  Loss at 0.2754799723625183 Validation Accuracy at 0.6761998534202576\n",
      "Epoch 42, CIFAR-10 Batch 5:  Loss at 0.19345954060554504 Validation Accuracy at 0.6891999244689941\n",
      "Epoch 43, CIFAR-10 Batch 1:  Loss at 0.2980242073535919 Validation Accuracy at 0.6879998445510864\n",
      "Epoch 43, CIFAR-10 Batch 2:  Loss at 0.2151937484741211 Validation Accuracy at 0.6849998831748962\n",
      "Epoch 43, CIFAR-10 Batch 3:  Loss at 0.21513786911964417 Validation Accuracy at 0.665199875831604\n",
      "Epoch 43, CIFAR-10 Batch 4:  Loss at 0.23742976784706116 Validation Accuracy at 0.6857998967170715\n",
      "Epoch 43, CIFAR-10 Batch 5:  Loss at 0.22687986493110657 Validation Accuracy at 0.6803998947143555\n",
      "Epoch 44, CIFAR-10 Batch 1:  Loss at 0.2997596263885498 Validation Accuracy at 0.6839998960494995\n",
      "Epoch 44, CIFAR-10 Batch 2:  Loss at 0.28282448649406433 Validation Accuracy at 0.679999828338623\n",
      "Epoch 44, CIFAR-10 Batch 3:  Loss at 0.2133130431175232 Validation Accuracy at 0.6827999949455261\n",
      "Epoch 44, CIFAR-10 Batch 4:  Loss at 0.24934710562229156 Validation Accuracy at 0.6849998831748962\n",
      "Epoch 44, CIFAR-10 Batch 5:  Loss at 0.18250417709350586 Validation Accuracy at 0.6929998397827148\n",
      "Epoch 45, CIFAR-10 Batch 1:  Loss at 0.3025127351284027 Validation Accuracy at 0.6815998554229736\n",
      "Epoch 45, CIFAR-10 Batch 2:  Loss at 0.26924842596054077 Validation Accuracy at 0.6861999034881592\n",
      "Epoch 45, CIFAR-10 Batch 3:  Loss at 0.20643678307533264 Validation Accuracy at 0.6805999279022217\n",
      "Epoch 45, CIFAR-10 Batch 4:  Loss at 0.22670672833919525 Validation Accuracy at 0.6875998377799988\n",
      "Epoch 45, CIFAR-10 Batch 5:  Loss at 0.19176360964775085 Validation Accuracy at 0.7001998424530029\n",
      "Epoch 46, CIFAR-10 Batch 1:  Loss at 0.3057098984718323 Validation Accuracy at 0.6823998689651489\n",
      "Epoch 46, CIFAR-10 Batch 2:  Loss at 0.24887239933013916 Validation Accuracy at 0.6603999137878418\n",
      "Epoch 46, CIFAR-10 Batch 3:  Loss at 0.20205476880073547 Validation Accuracy at 0.6811999678611755\n",
      "Epoch 46, CIFAR-10 Batch 4:  Loss at 0.2466261088848114 Validation Accuracy at 0.6891998648643494\n",
      "Epoch 46, CIFAR-10 Batch 5:  Loss at 0.20956268906593323 Validation Accuracy at 0.6919998526573181\n",
      "Epoch 47, CIFAR-10 Batch 1:  Loss at 0.28747615218162537 Validation Accuracy at 0.6899998784065247\n",
      "Epoch 47, CIFAR-10 Batch 2:  Loss at 0.21108248829841614 Validation Accuracy at 0.6821998357772827\n",
      "Epoch 47, CIFAR-10 Batch 3:  Loss at 0.21991199254989624 Validation Accuracy at 0.6857998967170715\n",
      "Epoch 47, CIFAR-10 Batch 4:  Loss at 0.2584555149078369 Validation Accuracy at 0.6851999163627625\n",
      "Epoch 47, CIFAR-10 Batch 5:  Loss at 0.1825968474149704 Validation Accuracy at 0.6997999548912048\n",
      "Epoch 48, CIFAR-10 Batch 1:  Loss at 0.27790018916130066 Validation Accuracy at 0.6825998425483704\n",
      "Epoch 48, CIFAR-10 Batch 2:  Loss at 0.22554855048656464 Validation Accuracy at 0.686599850654602\n",
      "Epoch 48, CIFAR-10 Batch 3:  Loss at 0.20738887786865234 Validation Accuracy at 0.674799919128418\n",
      "Epoch 48, CIFAR-10 Batch 4:  Loss at 0.21889740228652954 Validation Accuracy at 0.6855998635292053\n",
      "Epoch 48, CIFAR-10 Batch 5:  Loss at 0.19675077497959137 Validation Accuracy at 0.6891998648643494\n",
      "Epoch 49, CIFAR-10 Batch 1:  Loss at 0.2818598747253418 Validation Accuracy at 0.6817998886108398\n",
      "Epoch 49, CIFAR-10 Batch 2:  Loss at 0.18916325271129608 Validation Accuracy at 0.6737999320030212\n",
      "Epoch 49, CIFAR-10 Batch 3:  Loss at 0.1951189637184143 Validation Accuracy at 0.6763999462127686\n",
      "Epoch 49, CIFAR-10 Batch 4:  Loss at 0.2140200138092041 Validation Accuracy at 0.6905998587608337\n",
      "Epoch 49, CIFAR-10 Batch 5:  Loss at 0.20690259337425232 Validation Accuracy at 0.6755999326705933\n",
      "Epoch 50, CIFAR-10 Batch 1:  Loss at 0.2665129601955414 Validation Accuracy at 0.6821998953819275\n",
      "Epoch 50, CIFAR-10 Batch 2:  Loss at 0.20478156208992004 Validation Accuracy at 0.682999849319458\n",
      "Epoch 50, CIFAR-10 Batch 3:  Loss at 0.18680134415626526 Validation Accuracy at 0.6907998919487\n",
      "Epoch 50, CIFAR-10 Batch 4:  Loss at 0.22785015404224396 Validation Accuracy at 0.6857998371124268\n",
      "Epoch 50, CIFAR-10 Batch 5:  Loss at 0.17613554000854492 Validation Accuracy at 0.6775999069213867\n"
     ]
    }
   ],
   "source": [
    "\"\"\"\n",
    "DON'T MODIFY ANYTHING IN THIS CELL\n",
    "\"\"\"\n",
    "save_model_path = './image_classification'\n",
    "\n",
    "print('Training...')\n",
    "with tf.Session() as sess:\n",
    "    # Initializing the variables\n",
    "    sess.run(tf.global_variables_initializer())\n",
    "    \n",
    "    # Training cycle\n",
    "    for epoch in range(epochs):\n",
    "        # Loop over all batches\n",
    "        n_batches = 5\n",
    "        for batch_i in range(1, n_batches + 1):\n",
    "            for batch_features, batch_labels in helper.load_preprocess_training_batch(batch_i, batch_size):\n",
    "                train_neural_network(sess, optimizer, keep_probability, batch_features, batch_labels)\n",
    "            print('Epoch {:>2}, CIFAR-10 Batch {}:  '.format(epoch + 1, batch_i), end='')\n",
    "            print_stats(sess, batch_features, batch_labels, cost, accuracy)\n",
    "            \n",
    "    # Save Model\n",
    "    saver = tf.train.Saver()\n",
    "    save_path = saver.save(sess, save_model_path)"
   ]
  },
  {
   "cell_type": "markdown",
   "metadata": {
    "deletable": true,
    "editable": true
   },
   "source": [
    "# Checkpoint\n",
    "The model has been saved to disk.\n",
    "## Test Model\n",
    "Test your model against the test dataset.  This will be your final accuracy. You should have an accuracy greater than 50%. If you don't, keep tweaking the model architecture and parameters."
   ]
  },
  {
   "cell_type": "code",
   "execution_count": 78,
   "metadata": {
    "collapsed": false,
    "deletable": true,
    "editable": true,
    "scrolled": true
   },
   "outputs": [
    {
     "name": "stdout",
     "output_type": "stream",
     "text": [
      "Testing Accuracy: 0.669921875\n",
      "\n"
     ]
    },
    {
     "data": {
      "image/png": "[encoded data removed]",
      "text/plain": [
       "<matplotlib.figure.Figure at 0x7fa1a30e4dd8>"
      ]
     },
     "metadata": {
      "image/png": {
       "height": 319,
       "width": 355
      }
     },
     "output_type": "display_data"
    }
   ],
   "source": [
    "\"\"\"\n",
    "DON'T MODIFY ANYTHING IN THIS CELL\n",
    "\"\"\"\n",
    "%matplotlib inline\n",
    "%config InlineBackend.figure_format = 'retina'\n",
    "\n",
    "import tensorflow as tf\n",
    "import pickle\n",
    "import helper\n",
    "import random\n",
    "\n",
    "# Set batch size if not already set\n",
    "try:\n",
    "    if batch_size:\n",
    "        pass\n",
    "except NameError:\n",
    "    batch_size = 64\n",
    "\n",
    "save_model_path = './image_classification'\n",
    "n_samples = 4\n",
    "top_n_predictions = 3\n",
    "\n",
    "def test_model():\n",
    "    \"\"\"\n",
    "    Test the saved model against the test dataset\n",
    "    \"\"\"\n",
    "\n",
    "    test_features, test_labels = pickle.load(open('preprocess_training.p', mode='rb'))\n",
    "    loaded_graph = tf.Graph()\n",
    "\n",
    "    with tf.Session(graph=loaded_graph) as sess:\n",
    "        # Load model\n",
    "        loader = tf.train.import_meta_graph(save_model_path + '.meta')\n",
    "        loader.restore(sess, save_model_path)\n",
    "\n",
    "        # Get Tensors from loaded model\n",
    "        loaded_x = loaded_graph.get_tensor_by_name('x:0')\n",
    "        loaded_y = loaded_graph.get_tensor_by_name('y:0')\n",
    "        loaded_keep_prob = loaded_graph.get_tensor_by_name('keep_prob:0')\n",
    "        loaded_logits = loaded_graph.get_tensor_by_name('logits:0')\n",
    "        loaded_acc = loaded_graph.get_tensor_by_name('accuracy:0')\n",
    "        \n",
    "        # Get accuracy in batches for memory limitations\n",
    "        test_batch_acc_total = 0\n",
    "        test_batch_count = 0\n",
    "        \n",
    "        for train_feature_batch, train_label_batch in helper.batch_features_labels(test_features, test_labels, batch_size):\n",
    "            test_batch_acc_total += sess.run(\n",
    "                loaded_acc,\n",
    "                feed_dict={loaded_x: train_feature_batch, loaded_y: train_label_batch, loaded_keep_prob: 1.0})\n",
    "            test_batch_count += 1\n",
    "\n",
    "        print('Testing Accuracy: {}\\n'.format(test_batch_acc_total/test_batch_count))\n",
    "\n",
    "        # Print Random Samples\n",
    "        random_test_features, random_test_labels = tuple(zip(*random.sample(list(zip(test_features, test_labels)), n_samples)))\n",
    "        random_test_predictions = sess.run(\n",
    "            tf.nn.top_k(tf.nn.softmax(loaded_logits), top_n_predictions),\n",
    "            feed_dict={loaded_x: random_test_features, loaded_y: random_test_labels, loaded_keep_prob: 1.0})\n",
    "        helper.display_image_predictions(random_test_features, random_test_labels, random_test_predictions)\n",
    "\n",
    "\n",
    "test_model()"
   ]
  },
  {
   "cell_type": "markdown",
   "metadata": {
    "deletable": true,
    "editable": true
   },
   "source": [
    "## Why 50-80% Accuracy?\n",
    "You might be wondering why you can't get an accuracy any higher. First things first, 50% isn't bad for a simple CNN.  Pure guessing would get you 10% accuracy. However, you might notice people are getting scores [well above 80%](http://rodrigob.github.io/are_we_there_yet/build/classification_datasets_results.html#43494641522d3130).  That's because we haven't taught you all there is to know about neural networks. We still need to cover a few more techniques.\n",
    "## Submitting This Project\n",
    "When submitting this project, make sure to run all the cells before saving the notebook.  Save the notebook file as \"dlnd_image_classification.ipynb\" and save it as a HTML file under \"File\" -> \"Download as\".  Include the \"helper.py\" and \"problem_unittests.py\" files in your submission."
   ]
  }
 ],
 "metadata": {
  "kernelspec": {
   "display_name": "Python 3",
   "language": "python",
   "name": "python3"
  },
  "language_info": {
   "codemirror_mode": {
    "name": "ipython",
    "version": 3
   },
   "file_extension": ".py",
   "mimetype": "text/x-python",
   "name": "python",
   "nbconvert_exporter": "python",
   "pygments_lexer": "ipython3",
   "version": "3.5.2"
  },
  "widgets": {
   "state": {},
   "version": "1.1.2"
  }
 },
 "nbformat": 4,
 "nbformat_minor": 0
}
